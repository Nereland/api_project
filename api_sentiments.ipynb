{
 "cells": [
  {
   "cell_type": "code",
   "execution_count": 40,
   "metadata": {},
   "outputs": [],
   "source": [
    "import requests\n",
    "import pandas as pd\n",
    "from pymongo import MongoClient\n"
   ]
  },
  {
   "cell_type": "code",
   "execution_count": 41,
   "metadata": {
    "scrolled": true
   },
   "outputs": [
    {
     "data": {
      "text/html": [
       "<div>\n",
       "<style scoped>\n",
       "    .dataframe tbody tr th:only-of-type {\n",
       "        vertical-align: middle;\n",
       "    }\n",
       "\n",
       "    .dataframe tbody tr th {\n",
       "        vertical-align: top;\n",
       "    }\n",
       "\n",
       "    .dataframe thead th {\n",
       "        text-align: right;\n",
       "    }\n",
       "</style>\n",
       "<table border=\"1\" class=\"dataframe\">\n",
       "  <thead>\n",
       "    <tr style=\"text-align: right;\">\n",
       "      <th></th>\n",
       "      <th>user</th>\n",
       "      <th>message</th>\n",
       "      <th>conversation</th>\n",
       "    </tr>\n",
       "  </thead>\n",
       "  <tbody>\n",
       "    <tr>\n",
       "      <th>0</th>\n",
       "      <td>Rafiki</td>\n",
       "      <td>We would like to take a few moments to get you...</td>\n",
       "      <td>birth</td>\n",
       "    </tr>\n",
       "    <tr>\n",
       "      <th>1</th>\n",
       "      <td>Scar</td>\n",
       "      <td>Why! If it isn't my big brother descending fro...</td>\n",
       "      <td>birth</td>\n",
       "    </tr>\n",
       "    <tr>\n",
       "      <th>2</th>\n",
       "      <td>Mufasa</td>\n",
       "      <td>Sarabi and I didn't see you at the presentatio...</td>\n",
       "      <td>birth</td>\n",
       "    </tr>\n",
       "    <tr>\n",
       "      <th>3</th>\n",
       "      <td>Scar</td>\n",
       "      <td>That was today? Oh, I feel simply awful.</td>\n",
       "      <td>birth</td>\n",
       "    </tr>\n",
       "    <tr>\n",
       "      <th>4</th>\n",
       "      <td>Scar</td>\n",
       "      <td>Must have slipped my mind.</td>\n",
       "      <td>birth</td>\n",
       "    </tr>\n",
       "  </tbody>\n",
       "</table>\n",
       "</div>"
      ],
      "text/plain": [
       "     user                                            message conversation\n",
       "0  Rafiki  We would like to take a few moments to get you...        birth\n",
       "1    Scar  Why! If it isn't my big brother descending fro...        birth\n",
       "2  Mufasa  Sarabi and I didn't see you at the presentatio...        birth\n",
       "3    Scar           That was today? Oh, I feel simply awful.        birth\n",
       "4    Scar                         Must have slipped my mind.        birth"
      ]
     },
     "execution_count": 41,
     "metadata": {},
     "output_type": "execute_result"
    }
   ],
   "source": [
    "df = pd.read_csv(\"inputs/scriptlk.csv\", sep = \",\", engine = \"python\" )\n",
    "df.head()\n",
    "#df"
   ]
  },
  {
   "cell_type": "code",
   "execution_count": 42,
   "metadata": {},
   "outputs": [],
   "source": [
    "script_dict = df.to_dict(\"records\")"
   ]
  },
  {
   "cell_type": "code",
   "execution_count": 44,
   "metadata": {
    "scrolled": true
   },
   "outputs": [
    {
     "data": {
      "text/plain": [
       "[{'name': 'Simba'},\n",
       " {'name': 'Timon'},\n",
       " {'name': 'Zazu'},\n",
       " {'name': 'Scar'},\n",
       " {'name': 'Pumba'},\n",
       " {'name': 'Rafiki'},\n",
       " {'name': 'Mufasa'},\n",
       " {'name': 'Nala'}]"
      ]
     },
     "execution_count": 44,
     "metadata": {},
     "output_type": "execute_result"
    }
   ],
   "source": [
    "def names(users):\n",
    "    namelist= []\n",
    "    for user in users:\n",
    "        name = {\"name\": user}        \n",
    "        namelist.append(name)\n",
    "    return namelist\n",
    "\n",
    "names(users)"
   ]
  },
  {
   "cell_type": "code",
   "execution_count": 36,
   "metadata": {},
   "outputs": [
    {
     "data": {
      "text/plain": [
       "[{'name': 'Rafiki',\n",
       "  'message': 'We would like to take a few moments to get you acquainted with the story of Simba.,,',\n",
       "  'room': 'birth'},\n",
       " {'name': 'Scar',\n",
       "  'message': \"Why! If it isn't my big brother descending from on high to mingle with the commoners.\",\n",
       "  'room': 'birth'},\n",
       " {'name': 'Mufasa',\n",
       "  'message': \"Sarabi and I didn't see you at the presentation of Simba.\",\n",
       "  'room': 'birth'},\n",
       " {'name': 'Scar',\n",
       "  'message': 'That was today? Oh, I feel simply awful.',\n",
       "  'room': 'birth'},\n",
       " {'name': 'Scar', 'message': 'Must have slipped my mind.', 'room': 'birth'},\n",
       " {'name': 'Zazu',\n",
       "  'message': \"Yes, well, as slippery as your mind is, as the king's brother, you should have been first\",\n",
       "  'room': 'birth'},\n",
       " {'name': 'Scar',\n",
       "  'message': 'Well, I was first in line... until the little hairball was born.',\n",
       "  'room': 'birth'},\n",
       " {'name': 'Mufasa',\n",
       "  'message': 'That “hairball” is my son -and your future king.',\n",
       "  'room': 'birth'},\n",
       " {'name': 'Scar',\n",
       "  'message': 'Ohh, I shall practice my curtsy.',\n",
       "  'room': 'birth'},\n",
       " {'name': 'Mufasa',\n",
       "  'message': \"Don't turn your back on me, Scar.\",\n",
       "  'room': 'birth'},\n",
       " {'name': 'Scar',\n",
       "  'message': \"On, no, Mufasa. Perhaps you shouldn't turn your back on me.\",\n",
       "  'room': 'birth'},\n",
       " {'name': 'Mufasa', 'message': 'Is that a challenge?', 'room': 'birth'},\n",
       " {'name': 'Scar',\n",
       "  'message': \"Temper, temper. I wouldn't dream of challenging you.\",\n",
       "  'room': 'birth'},\n",
       " {'name': 'Zazu', 'message': 'Pity! Why not?', 'room': 'birth'},\n",
       " {'name': 'Scar',\n",
       "  'message': \"Well, as far as brains go, I got the lion's share. But, when it comes to brute strength..I'm afraid I'm at the shallow end of the gene pool.\",\n",
       "  'room': 'birth'},\n",
       " {'name': 'Zazu',\n",
       "  'message': \"here's one in every family sire... Two in mine actually. And they always\",\n",
       "  'room': 'birth'},\n",
       " {'name': 'Simba', 'message': 'Simba: Yeah!', 'room': 'growing_up'},\n",
       " {'name': 'Mufasa',\n",
       "  'message': 'Look Simba.,,Everything the light touches is our kingdom.',\n",
       "  'room': 'growing_up'},\n",
       " {'name': 'Mufasa',\n",
       "  'message': \"A king's time as ruler rises and falls like the sun. One day Simba, the sun will set on my\",\n",
       "  'room': 'growing_up'},\n",
       " {'name': 'Simba',\n",
       "  'message': 'And this’ll all be mine?',\n",
       "  'room': 'growing_up'},\n",
       " {'name': 'Mufasa', 'message': 'Everything.', 'room': 'growing_up'},\n",
       " {'name': 'Simba',\n",
       "  'message': 'Everything the light touches. What about that shadowy place?',\n",
       "  'room': 'growing_up'},\n",
       " {'name': 'Mufasa',\n",
       "  'message': \"That's beyond our borders; you must never go there, Simba.\",\n",
       "  'room': 'growing_up'},\n",
       " {'name': 'Simba',\n",
       "  'message': 'But I thought a king can do whatever he wants.',\n",
       "  'room': 'growing_up'},\n",
       " {'name': 'Mufasa',\n",
       "  'message': \"Oh, there's more to being king than-- getting your way all the time.\",\n",
       "  'room': 'growing_up'},\n",
       " {'name': 'Simba', 'message': \"There's more?\", 'room': 'growing_up'},\n",
       " {'name': 'Mufasa',\n",
       "  'message': 'Everything you see exists together, in a delicate balance. As king, you need to understand,the balance, and have respect all the creatures-- from the crawling ant to the leaping antelope.',\n",
       "  'room': 'growing_up'},\n",
       " {'name': 'Simba',\n",
       "  'message': \"But, Dad, don't we eat the antelope?,\",\n",
       "  'room': 'growing_up'},\n",
       " {'name': 'Mufasa',\n",
       "  'message': 'Yes, Simba, but let me explain. When we die, our bodies become the grass. And the, antelope eat the grass. And so we are all connected in the great Circle of Life.',\n",
       "  'room': 'growing_up'},\n",
       " {'name': 'Simba',\n",
       "  'message': 'All right, it worked!',\n",
       "  'room': 'elephant_graveyard'},\n",
       " {'name': 'Nala',\n",
       "  'message': \"We lost 'im. I told you we would. He’s a dodo.\",\n",
       "  'room': 'elephant_graveyard'},\n",
       " {'name': 'Simba',\n",
       "  'message': 'I ... am a genius.',\n",
       "  'room': 'elephant_graveyard'},\n",
       " {'name': 'Nala',\n",
       "  'message': 'Hey, Genius, it was my idea.',\n",
       "  'room': 'elephant_graveyard'},\n",
       " {'name': 'Simba',\n",
       "  'message': 'Yeah, but I pulled it off.',\n",
       "  'room': 'elephant_graveyard'},\n",
       " {'name': 'Simba',\n",
       "  'message': 'This is it.... We made it!',\n",
       "  'room': 'elephant_graveyard'},\n",
       " {'name': 'Nala',\n",
       "  'message': \"It's really creepy.\",\n",
       "  'room': 'elephant_graveyard'},\n",
       " {'name': 'Simba',\n",
       "  'message': \"Yeah... isn't it great?\",\n",
       "  'room': 'elephant_graveyard'},\n",
       " {'name': 'Nala',\n",
       "  'message': 'We could get in big trouble.',\n",
       "  'room': 'elephant_graveyard'},\n",
       " {'name': 'Simba', 'message': 'I know, huh.', 'room': 'elephant_graveyard'},\n",
       " {'name': 'Nala',\n",
       "  'message': 'I wonder if its brains are still in there.',\n",
       "  'room': 'elephant_graveyard'},\n",
       " {'name': 'Simba',\n",
       "  'message': \"There's only one way to know. Come on. Let’s go check it out.,\",\n",
       "  'room': 'elephant_graveyard'},\n",
       " {'name': 'Zazu',\n",
       "  'message': 'The only checking out you will do will be to check out of here.,',\n",
       "  'room': 'elephant_graveyard'},\n",
       " {'name': 'Simba', 'message': 'Aw, man.', 'room': 'elephant_graveyard'},\n",
       " {'name': 'Nala', 'message': 'Busted!', 'room': 'elephant_graveyard'},\n",
       " {'name': 'Zazu',\n",
       "  'message': \"We're way beyond the boundary of the Pride Lands.\",\n",
       "  'room': 'elephant_graveyard'},\n",
       " {'name': 'Simba',\n",
       "  'message': 'Huh. Look, banana beak is scared. Heh',\n",
       "  'room': 'elephant_graveyard'},\n",
       " {'name': 'Simba',\n",
       "  'message': \"Dad, I'm.... I'm sorry\",\n",
       "  'room': 'elephant_graveyard'},\n",
       " {'name': 'Mufasa',\n",
       "  'message': 'worse, - you put Nala in danger!',\n",
       "  'room': 'elephant_graveyard'},\n",
       " {'name': 'Simba',\n",
       "  'message': \"But you're not scared of anything\",\n",
       "  'room': 'elephant_graveyard'},\n",
       " {'name': 'Simba',\n",
       "  'message': 'I think those hyenas were even scareder',\n",
       "  'room': 'elephant_graveyard'},\n",
       " {'name': 'Mufasa',\n",
       "  'message': 'Yes ... So whenever you feel alone, just remember that those kings will always be there to guide you ... And so will I.',\n",
       "  'room': 'elephant_graveyard'},\n",
       " {'name': 'Timon',\n",
       "  'message': 'Welcome... to our humble home.',\n",
       "  'room': 'hakuna_matata'},\n",
       " {'name': 'Pumba',\n",
       "  'message': 'Yep. Home is where your rump rests. Heh!',\n",
       "  'room': 'hakuna_matata'},\n",
       " {'name': 'Timon',\n",
       "  'message': 'Nope. Listen, kid; if you live with us, you have to eat like us. Hey, this looks like a good spot to rustle up some grub.',\n",
       "  'room': 'hakuna_matata'},\n",
       " {'name': 'Pumba',\n",
       "  'message': 'Slimy, yet satisfying.',\n",
       "  'room': 'hakuna_matata'},\n",
       " {'name': 'Pumba',\n",
       "  'message': \"You’ll learn to love 'em!\",\n",
       "  'room': 'hakuna_matata'},\n",
       " {'name': 'Nala',\n",
       "  'message': \"I've really missed you.\",\n",
       "  'room': 'hakuna_matata'},\n",
       " {'name': 'Pumba',\n",
       "  'message': \"What's wrong with that?\",\n",
       "  'room': 'hakuna_matata'},\n",
       " {'name': 'Timon', 'message': 'This stinks.', 'room': 'hakuna_matata'},\n",
       " {'name': 'Nala',\n",
       "  'message': \"it is beautiful.... But I don't understand something. You've been alive all this time. Why didn't you come back to Pride Rock?\",\n",
       "  'room': 'hakuna_matata'},\n",
       " {'name': 'Simba',\n",
       "  'message': \"Well, I just ... needed to get out on my own. Live my own life. And I did. And it's great! Nala: We've really needed you at home\",\n",
       "  'room': 'hakuna_matata'},\n",
       " {'name': 'Simba',\n",
       "  'message': \"You're right; I'm not. Now are you satisfied?\",\n",
       "  'room': 'hakuna_matata'},\n",
       " {'name': 'Nala',\n",
       "  'message': 'No, just disappointed.',\n",
       "  'room': 'hakuna_matata'},\n",
       " {'name': 'Simba',\n",
       "  'message': \"give me one good reason why I shouldn't rip you apart.\",\n",
       "  'room': 'hakuna_matata'},\n",
       " {'name': 'Scar',\n",
       "  'message': 'Oh, oh, ye-- Well, I don’t think I can do that. The hyenas think I’m king.',\n",
       "  'room': 'hakuna_matata'},\n",
       " {'name': 'Scar',\n",
       "  'message': \"Oh, must it all end in violence? I'd hate to be responsible for the death of a family member. Wouldn't you agree, Simba?\",\n",
       "  'room': 'hakuna_matata'}]"
      ]
     },
     "execution_count": 36,
     "metadata": {},
     "output_type": "execute_result"
    }
   ],
   "source": [
    "def messages(script_dict):\n",
    "    converList = []\n",
    "    for i in range(len(script_dict)):\n",
    "        message = {\"name\": script_dict[i][\"user\"],\n",
    "                   \"message\": script_dict[i][\"message\"],\n",
    "                  \"room\":script_dict[i][\"conversation\"]}\n",
    "        converList.append(message)\n",
    "    return converList\n",
    "messages(script_dict) "
   ]
  },
  {
   "cell_type": "markdown",
   "metadata": {},
   "source": [
    "## Creating users"
   ]
  },
  {
   "cell_type": "code",
   "execution_count": 4,
   "metadata": {
    "scrolled": true
   },
   "outputs": [
    {
     "data": {
      "text/plain": [
       "['Simba', 'Timon', 'Zazu', 'Scar', 'Pumba', 'Rafiki', 'Mufasa', 'Nala']"
      ]
     },
     "execution_count": 4,
     "metadata": {},
     "output_type": "execute_result"
    }
   ],
   "source": [
    "users = [script_dict[i][\"user\"] for i in range(len(script_dict))]\n",
    "users =list(set(users))\n",
    "users\n"
   ]
  },
  {
   "cell_type": "code",
   "execution_count": 5,
   "metadata": {},
   "outputs": [],
   "source": [
    "API_URL = \"http://localhost:9042\"\n"
   ]
  },
  {
   "cell_type": "code",
   "execution_count": 6,
   "metadata": {},
   "outputs": [
    {
     "name": "stdout",
     "output_type": "stream",
     "text": [
      "Simba\n",
      "b'{\\n  \"user_id\": \"5f0c8b25d489505b2a3516df\"\\n}\\n'\n",
      "Timon\n",
      "b'{\\n  \"user_id\": \"5f0c8b25d489505b2a3516e0\"\\n}\\n'\n",
      "Zazu\n",
      "b'{\\n  \"user_id\": \"5f0c8b25d489505b2a3516e1\"\\n}\\n'\n",
      "Scar\n",
      "b'{\\n  \"user_id\": \"5f0c8b25d489505b2a3516e2\"\\n}\\n'\n",
      "Pumba\n",
      "b'{\\n  \"user_id\": \"5f0c8b25d489505b2a3516e3\"\\n}\\n'\n",
      "Rafiki\n",
      "b'{\\n  \"user_id\": \"5f0c8b25d489505b2a3516e4\"\\n}\\n'\n",
      "Mufasa\n",
      "b'{\\n  \"user_id\": \"5f0c8b25d489505b2a3516e5\"\\n}\\n'\n",
      "Nala\n",
      "b'{\\n  \"user_id\": \"5f0c8b25d489505b2a3516e6\"\\n}\\n'\n"
     ]
    }
   ],
   "source": [
    "URL_CREATE_USER = \"/user/create/\"\n",
    "for name in users:\n",
    "    print(name)\n",
    "    createUser = requests.post(API_URL + URL_CREATE_USER + name)\n",
    "    print(createUser.content)"
   ]
  },
  {
   "cell_type": "markdown",
   "metadata": {},
   "source": [
    "## Creating conversations/chat rooms: birth, growing up, elephant graveyard and hakuna_matata\n"
   ]
  },
  {
   "cell_type": "code",
   "execution_count": 7,
   "metadata": {},
   "outputs": [],
   "source": [
    "rooms = ['birth', 'growing_up', 'elephant_graveyard', 'hakuna_matata']\n",
    "userbirth = {\"users\":[{'name': 'Rafiki'},{'name': 'Scar'} ,{'name': 'Zazu'}, {'name': 'Mufasa'}]}\n",
    "usergrow = {\"users\":[{'name': 'Simba'},{'name': 'Mufasa'}]}\n",
    "usereleph= {\"users\":[{'name': 'Simba'},{'name': 'Nala'} ,{'name': 'Zazu'}, {'name': 'Mufasa'}]}\n",
    "userhakuna = {\"users\":[{'name': 'Simba'},{'name': 'Nala'} ,{'name': 'Timon'}, {'name': 'Pumba'}, {'name': 'Scar'}]}"
   ]
  },
  {
   "cell_type": "code",
   "execution_count": 8,
   "metadata": {},
   "outputs": [
    {
     "name": "stdout",
     "output_type": "stream",
     "text": [
      "b'{\\n  \"conversation_id\": \"5f0c8b25d489505b2a3516e7\"\\n}\\n'\n"
     ]
    }
   ],
   "source": [
    "urlCreateChat = API_URL + \"/chat/create/birth\"\n",
    "Chat_create = requests.post(urlCreateChat, json = userbirth)\n",
    "print(Chat_create.content)"
   ]
  },
  {
   "cell_type": "code",
   "execution_count": 9,
   "metadata": {},
   "outputs": [
    {
     "name": "stdout",
     "output_type": "stream",
     "text": [
      "b'{\\n  \"conversation_id\": \"5f0c8b25d489505b2a3516e8\"\\n}\\n'\n"
     ]
    }
   ],
   "source": [
    "urlCreateChat = API_URL + \"/chat/create/growing_up\"\n",
    "Chat_create = requests.post(urlCreateChat, json = usergrow)\n",
    "print(Chat_create.content)"
   ]
  },
  {
   "cell_type": "code",
   "execution_count": 10,
   "metadata": {},
   "outputs": [
    {
     "name": "stdout",
     "output_type": "stream",
     "text": [
      "b'{\\n  \"conversation_id\": \"5f0c8b26d489505b2a3516e9\"\\n}\\n'\n"
     ]
    }
   ],
   "source": [
    "urlCreateChat = API_URL + \"/chat/create/elephant_graveyard\"\n",
    "Chat_create = requests.post(urlCreateChat, json = usereleph)\n",
    "print(Chat_create.content)"
   ]
  },
  {
   "cell_type": "code",
   "execution_count": 11,
   "metadata": {},
   "outputs": [
    {
     "name": "stdout",
     "output_type": "stream",
     "text": [
      "b'{\\n  \"conversation_id\": \"5f0c8b26d489505b2a3516ea\"\\n}\\n'\n"
     ]
    }
   ],
   "source": [
    "urlCreateChat = API_URL + \"/chat/create/hakuna_matata\"\n",
    "Chat_create = requests.post(urlCreateChat, json = userhakuna)\n",
    "print(Chat_create.content)"
   ]
  },
  {
   "cell_type": "markdown",
   "metadata": {},
   "source": [
    "## Adding a user to a conversation"
   ]
  },
  {
   "cell_type": "code",
   "execution_count": 12,
   "metadata": {},
   "outputs": [],
   "source": [
    "userbirth_add = {\"users\":[{'name': 'Pumba'}]}"
   ]
  },
  {
   "cell_type": "code",
   "execution_count": 13,
   "metadata": {},
   "outputs": [],
   "source": [
    "urlUdpateChat = API_URL + \"/chat/birth/adduser\"\n",
    "Chat_create = requests.post(urlUdpateChat, json = userbirth_add)"
   ]
  },
  {
   "cell_type": "markdown",
   "metadata": {},
   "source": [
    "## Adding messages to a conversation"
   ]
  },
  {
   "cell_type": "code",
   "execution_count": 24,
   "metadata": {},
   "outputs": [],
   "source": [
    "message_addbirth = {\"message\":[{'name': 'Scar',\n",
    "  'message': \"Why! If it isn't my big brother descending from on high to mingle with the commoners.\",\n",
    "  'room': 'birth'},\n",
    " {'name': 'Mufasa',\n",
    "  'message': \"Sarabi and I didn't see you at the presentation of Simba.\",\n",
    "  'room': 'birth'},\n",
    " {'name': 'Scar',\n",
    "  'message': 'That was today? Oh, I feel simply awful.',\n",
    "  'room': 'birth'},\n",
    " {'name': 'Scar', 'message': 'Must have slipped my mind.', 'room': 'birth'},\n",
    " {'name': 'Zazu',\n",
    "  'message': \"Yes, well, as slippery as your mind is, as the king's brother, you should have been first\",\n",
    "  'room': 'birth'},\n",
    " {'name': 'Scar',\n",
    "  'message': 'Well, I was first in line... until the little hairball was born.',\n",
    "  'room': 'birth'},\n",
    " {'name': 'Mufasa',\n",
    "  'message': 'That “hairball” is my son -and your future king.',\n",
    "  'room': 'birth'},\n",
    " {'name': 'Scar',\n",
    "  'message': 'Ohh, I shall practice my curtsy.',\n",
    "  'room': 'birth'},\n",
    " {'name': 'Mufasa',\n",
    "  'message': \"Don't turn your back on me, Scar.\",\n",
    "  'room': 'birth'},\n",
    " {'name': 'Scar',\n",
    "  'message': \"On, no, Mufasa. Perhaps you shouldn't turn your back on me.\",\n",
    "  'room': 'birth'},\n",
    " {'name': 'Mufasa', 'message': 'Is that a challenge?', 'room': 'birth'},\n",
    " {'name': 'Scar',\n",
    "  'message': \"Temper, temper. I wouldn't dream of challenging you.\",\n",
    "  'room': 'birth'},\n",
    " {'name': 'Zazu', 'message': 'Pity! Why not?', 'room': 'birth'},\n",
    " {'name': 'Scar',\n",
    "  'message': \"Well, as far as brains go, I got the lion's share. But, when it comes to brute strength..I'm afraid I'm at the shallow end of the gene pool.\",\n",
    "  'room': 'birth'},\n",
    " {'name': 'Zazu',\n",
    "  'message': \"here's one in every family sire... Two in mine actually. And they always\",\n",
    "  'room': 'birth'}]}"
   ]
  },
  {
   "cell_type": "code",
   "execution_count": 25,
   "metadata": {},
   "outputs": [
    {
     "name": "stdout",
     "output_type": "stream",
     "text": [
      "b'{\\n  \"message\": [\\n    {\\n      \"message\": \"Why! If it isn\\'t my big brother descending from on high to mingle with the commoners.\", \\n      \"name\": \"Scar\", \\n      \"room\": \"birth\"\\n    }, \\n    {\\n      \"message\": \"Sarabi and I didn\\'t see you at the presentation of Simba.\", \\n      \"name\": \"Mufasa\", \\n      \"room\": \"birth\"\\n    }, \\n    {\\n      \"message\": \"That was today? Oh, I feel simply awful.\", \\n      \"name\": \"Scar\", \\n      \"room\": \"birth\"\\n    }, \\n    {\\n      \"message\": \"Must have slipped my mind.\", \\n      \"name\": \"Scar\", \\n      \"room\": \"birth\"\\n    }, \\n    {\\n      \"message\": \"Yes, well, as slippery as your mind is, as the king\\'s brother, you should have been first\", \\n      \"name\": \"Zazu\", \\n      \"room\": \"birth\"\\n    }, \\n    {\\n      \"message\": \"Well, I was first in line... until the little hairball was born.\", \\n      \"name\": \"Scar\", \\n      \"room\": \"birth\"\\n    }, \\n    {\\n      \"message\": \"That \\\\u201chairball\\\\u201d is my son -and your future king.\", \\n      \"name\": \"Mufasa\", \\n      \"room\": \"birth\"\\n    }, \\n    {\\n      \"message\": \"Ohh, I shall practice my curtsy.\", \\n      \"name\": \"Scar\", \\n      \"room\": \"birth\"\\n    }, \\n    {\\n      \"message\": \"Don\\'t turn your back on me, Scar.\", \\n      \"name\": \"Mufasa\", \\n      \"room\": \"birth\"\\n    }, \\n    {\\n      \"message\": \"On, no, Mufasa. Perhaps you shouldn\\'t turn your back on me.\", \\n      \"name\": \"Scar\", \\n      \"room\": \"birth\"\\n    }, \\n    {\\n      \"message\": \"Is that a challenge?\", \\n      \"name\": \"Mufasa\", \\n      \"room\": \"birth\"\\n    }, \\n    {\\n      \"message\": \"Temper, temper. I wouldn\\'t dream of challenging you.\", \\n      \"name\": \"Scar\", \\n      \"room\": \"birth\"\\n    }, \\n    {\\n      \"message\": \"Pity! Why not?\", \\n      \"name\": \"Zazu\", \\n      \"room\": \"birth\"\\n    }, \\n    {\\n      \"message\": \"Well, as far as brains go, I got the lion\\'s share. But, when it comes to brute strength..I\\'m afraid I\\'m at the shallow end of the gene pool.\", \\n      \"name\": \"Scar\", \\n      \"room\": \"birth\"\\n    }, \\n    {\\n      \"message\": \"here\\'s one in every family sire... Two in mine actually. And they always\", \\n      \"name\": \"Zazu\", \\n      \"room\": \"birth\"\\n    }\\n  ]\\n}\\n'\n"
     ]
    }
   ],
   "source": [
    "urlAddMessag = API_URL + \"/chat/birth/addmessages\"\n",
    "addmessage = requests.post(urlAddMessag, json = message_addbirth)\n",
    "print(addmessage.content)"
   ]
  },
  {
   "cell_type": "code",
   "execution_count": 26,
   "metadata": {},
   "outputs": [],
   "source": [
    "message_addgrow = {\"message\":[{'name': 'Simba', 'message': 'Simba: Yeah!', 'room': 'growing_up'},\n",
    " {'name': 'Mufasa',\n",
    "  'message': 'Look Simba.,,Everything the light touches is our kingdom.',\n",
    "  'room': 'growing_up'},\n",
    " {'name': 'Mufasa',\n",
    "  'message': \"A king's time as ruler rises and falls like the sun. One day Simba, the sun will set on my\",\n",
    "  'room': 'growing_up'},\n",
    " {'name': 'Simba',\n",
    "  'message': 'And this’ll all be mine?',\n",
    "  'room': 'growing_up'},\n",
    " {'name': 'Mufasa', 'message': 'Everything.', 'room': 'growing_up'},\n",
    " {'name': 'Simba',\n",
    "  'message': 'Everything the light touches. What about that shadowy place?',\n",
    "  'room': 'growing_up'},\n",
    " {'name': 'Mufasa',\n",
    "  'message': \"That's beyond our borders; you must never go there, Simba.\",\n",
    "  'room': 'growing_up'},\n",
    " {'name': 'Simba',\n",
    "  'message': 'But I thought a king can do whatever he wants.',\n",
    "  'room': 'growing_up'},\n",
    " {'name': 'Mufasa',\n",
    "  'message': \"Oh, there's more to being king than-- getting your way all the time.\",\n",
    "  'room': 'growing_up'},\n",
    " {'name': 'Simba', 'message': \"There's more?\", 'room': 'growing_up'},\n",
    " {'name': 'Mufasa',\n",
    "  'message': 'Everything you see exists together, in a delicate balance. As king, you need to understand,the balance, and have respect all the creatures-- from the crawling ant to the leaping antelope.',\n",
    "  'room': 'growing_up'},\n",
    " {'name': 'Simba',\n",
    "  'message': \"But, Dad, don't we eat the antelope?,\",\n",
    "  'room': 'growing_up'},\n",
    " {'name': 'Mufasa',\n",
    "  'message': 'Yes, Simba, but let me explain. When we die, our bodies become the grass. And the, antelope eat the grass. And so we are all connected in the great Circle of Life.',\n",
    "  'room': 'growing_up'}]}\n",
    " "
   ]
  },
  {
   "cell_type": "code",
   "execution_count": 27,
   "metadata": {},
   "outputs": [
    {
     "name": "stdout",
     "output_type": "stream",
     "text": [
      "b'{\\n  \"message\": [\\n    {\\n      \"message\": \"Simba: Yeah!\", \\n      \"name\": \"Simba\", \\n      \"room\": \"growing_up\"\\n    }, \\n    {\\n      \"message\": \"Look Simba.,,Everything the light touches is our kingdom.\", \\n      \"name\": \"Mufasa\", \\n      \"room\": \"growing_up\"\\n    }, \\n    {\\n      \"message\": \"A king\\'s time as ruler rises and falls like the sun. One day Simba, the sun will set on my\", \\n      \"name\": \"Mufasa\", \\n      \"room\": \"growing_up\"\\n    }, \\n    {\\n      \"message\": \"And this\\\\u2019ll all be mine?\", \\n      \"name\": \"Simba\", \\n      \"room\": \"growing_up\"\\n    }, \\n    {\\n      \"message\": \"Everything.\", \\n      \"name\": \"Mufasa\", \\n      \"room\": \"growing_up\"\\n    }, \\n    {\\n      \"message\": \"Everything the light touches. What about that shadowy place?\", \\n      \"name\": \"Simba\", \\n      \"room\": \"growing_up\"\\n    }, \\n    {\\n      \"message\": \"That\\'s beyond our borders; you must never go there, Simba.\", \\n      \"name\": \"Mufasa\", \\n      \"room\": \"growing_up\"\\n    }, \\n    {\\n      \"message\": \"But I thought a king can do whatever he wants.\", \\n      \"name\": \"Simba\", \\n      \"room\": \"growing_up\"\\n    }, \\n    {\\n      \"message\": \"Oh, there\\'s more to being king than-- getting your way all the time.\", \\n      \"name\": \"Mufasa\", \\n      \"room\": \"growing_up\"\\n    }, \\n    {\\n      \"message\": \"There\\'s more?\", \\n      \"name\": \"Simba\", \\n      \"room\": \"growing_up\"\\n    }, \\n    {\\n      \"message\": \"Everything you see exists together, in a delicate balance. As king, you need to understand,the balance, and have respect all the creatures-- from the crawling ant to the leaping antelope.\", \\n      \"name\": \"Mufasa\", \\n      \"room\": \"growing_up\"\\n    }, \\n    {\\n      \"message\": \"But, Dad, don\\'t we eat the antelope?,\", \\n      \"name\": \"Simba\", \\n      \"room\": \"growing_up\"\\n    }, \\n    {\\n      \"message\": \"Yes, Simba, but let me explain. When we die, our bodies become the grass. And the, antelope eat the grass. And so we are all connected in the great Circle of Life.\", \\n      \"name\": \"Mufasa\", \\n      \"room\": \"growing_up\"\\n    }\\n  ]\\n}\\n'\n"
     ]
    }
   ],
   "source": [
    "urlAddMessag = API_URL + \"/chat/growing_up/addmessages\"\n",
    "addmessage = requests.post(urlAddMessag, json = message_addgrow)\n",
    "print(addmessage.content)"
   ]
  },
  {
   "cell_type": "code",
   "execution_count": 28,
   "metadata": {},
   "outputs": [],
   "source": [
    "message_addeleph = {\"message\":[{'name': 'Simba',\n",
    "  'message': 'All right, it worked!',\n",
    "  'room': 'elephant_graveyard'},\n",
    " {'name': 'Nala',\n",
    "  'message': \"We lost 'im. I told you we would. He’s a dodo.\",\n",
    "  'room': 'elephant_graveyard'},\n",
    " {'name': 'Simba',\n",
    "  'message': 'I ... am a genius.',\n",
    "  'room': 'elephant_graveyard'},\n",
    " {'name': 'Nala',\n",
    "  'message': 'Hey, Genius, it was my idea.',\n",
    "  'room': 'elephant_graveyard'},\n",
    " {'name': 'Simba',\n",
    "  'message': 'Yeah, but I pulled it off.',\n",
    "  'room': 'elephant_graveyard'},\n",
    " {'name': 'Simba',\n",
    "  'message': 'This is it.... We made it!',\n",
    "  'room': 'elephant_graveyard'},\n",
    " {'name': 'Nala',\n",
    "  'message': \"It's really creepy.\",\n",
    "  'room': 'elephant_graveyard'},\n",
    " {'name': 'Simba',\n",
    "  'message': \"Yeah... isn't it great?\",\n",
    "  'room': 'elephant_graveyard'},\n",
    " {'name': 'Nala',\n",
    "  'message': 'We could get in big trouble.',\n",
    "  'room': 'elephant_graveyard'},\n",
    " {'name': 'Simba', 'message': 'I know, huh.', 'room': 'elephant_graveyard'},\n",
    " {'name': 'Nala',\n",
    "  'message': 'I wonder if its brains are still in there.',\n",
    "  'room': 'elephant_graveyard'},\n",
    " {'name': 'Simba',\n",
    "  'message': \"There's only one way to know. Come on. Let’s go check it out.,\",\n",
    "  'room': 'elephant_graveyard'},\n",
    " {'name': 'Zazu',\n",
    "  'message': 'The only checking out you will do will be to check out of here.,',\n",
    "  'room': 'elephant_graveyard'},\n",
    " {'name': 'Simba', 'message': 'Aw, man.', 'room': 'elephant_graveyard'},\n",
    " {'name': 'Nala', 'message': 'Busted!', 'room': 'elephant_graveyard'},\n",
    " {'name': 'Zazu',\n",
    "  'message': \"We're way beyond the boundary of the Pride Lands.\",\n",
    "  'room': 'elephant_graveyard'},\n",
    " {'name': 'Simba',\n",
    "  'message': 'Huh. Look, banana beak is scared. Heh',\n",
    "  'room': 'elephant_graveyard'},\n",
    " {'name': 'Simba',\n",
    "  'message': \"Dad, I'm.... I'm sorry\",\n",
    "  'room': 'elephant_graveyard'},\n",
    " {'name': 'Mufasa',\n",
    "  'message': 'worse, - you put Nala in danger!',\n",
    "  'room': 'elephant_graveyard'},\n",
    " {'name': 'Simba',\n",
    "  'message': \"But you're not scared of anything\",\n",
    "  'room': 'elephant_graveyard'},\n",
    " {'name': 'Simba',\n",
    "  'message': 'I think those hyenas were even scareder',\n",
    "  'room': 'elephant_graveyard'},\n",
    " {'name': 'Mufasa',\n",
    "  'message': 'Yes ... So whenever you feel alone, just remember that those kings will always be there to guide you ... And so will I.',\n",
    "  'room': 'elephant_graveyard'}]}\n",
    " \n"
   ]
  },
  {
   "cell_type": "code",
   "execution_count": 29,
   "metadata": {},
   "outputs": [
    {
     "name": "stdout",
     "output_type": "stream",
     "text": [
      "b'{\\n  \"message\": [\\n    {\\n      \"message\": \"All right, it worked!\", \\n      \"name\": \"Simba\", \\n      \"room\": \"elephant_graveyard\"\\n    }, \\n    {\\n      \"message\": \"We lost \\'im. I told you we would. He\\\\u2019s a dodo.\", \\n      \"name\": \"Nala\", \\n      \"room\": \"elephant_graveyard\"\\n    }, \\n    {\\n      \"message\": \"I ... am a genius.\", \\n      \"name\": \"Simba\", \\n      \"room\": \"elephant_graveyard\"\\n    }, \\n    {\\n      \"message\": \"Hey, Genius, it was my idea.\", \\n      \"name\": \"Nala\", \\n      \"room\": \"elephant_graveyard\"\\n    }, \\n    {\\n      \"message\": \"Yeah, but I pulled it off.\", \\n      \"name\": \"Simba\", \\n      \"room\": \"elephant_graveyard\"\\n    }, \\n    {\\n      \"message\": \"This is it.... We made it!\", \\n      \"name\": \"Simba\", \\n      \"room\": \"elephant_graveyard\"\\n    }, \\n    {\\n      \"message\": \"It\\'s really creepy.\", \\n      \"name\": \"Nala\", \\n      \"room\": \"elephant_graveyard\"\\n    }, \\n    {\\n      \"message\": \"Yeah... isn\\'t it great?\", \\n      \"name\": \"Simba\", \\n      \"room\": \"elephant_graveyard\"\\n    }, \\n    {\\n      \"message\": \"We could get in big trouble.\", \\n      \"name\": \"Nala\", \\n      \"room\": \"elephant_graveyard\"\\n    }, \\n    {\\n      \"message\": \"I know, huh.\", \\n      \"name\": \"Simba\", \\n      \"room\": \"elephant_graveyard\"\\n    }, \\n    {\\n      \"message\": \"I wonder if its brains are still in there.\", \\n      \"name\": \"Nala\", \\n      \"room\": \"elephant_graveyard\"\\n    }, \\n    {\\n      \"message\": \"There\\'s only one way to know. Come on. Let\\\\u2019s go check it out.,\", \\n      \"name\": \"Simba\", \\n      \"room\": \"elephant_graveyard\"\\n    }, \\n    {\\n      \"message\": \"The only checking out you will do will be to check out of here.,\", \\n      \"name\": \"Zazu\", \\n      \"room\": \"elephant_graveyard\"\\n    }, \\n    {\\n      \"message\": \"Aw, man.\", \\n      \"name\": \"Simba\", \\n      \"room\": \"elephant_graveyard\"\\n    }, \\n    {\\n      \"message\": \"Busted!\", \\n      \"name\": \"Nala\", \\n      \"room\": \"elephant_graveyard\"\\n    }, \\n    {\\n      \"message\": \"We\\'re way beyond the boundary of the Pride Lands.\", \\n      \"name\": \"Zazu\", \\n      \"room\": \"elephant_graveyard\"\\n    }, \\n    {\\n      \"message\": \"Huh. Look, banana beak is scared. Heh\", \\n      \"name\": \"Simba\", \\n      \"room\": \"elephant_graveyard\"\\n    }, \\n    {\\n      \"message\": \"Dad, I\\'m.... I\\'m sorry\", \\n      \"name\": \"Simba\", \\n      \"room\": \"elephant_graveyard\"\\n    }, \\n    {\\n      \"message\": \"worse, - you put Nala in danger!\", \\n      \"name\": \"Mufasa\", \\n      \"room\": \"elephant_graveyard\"\\n    }, \\n    {\\n      \"message\": \"But you\\'re not scared of anything\", \\n      \"name\": \"Simba\", \\n      \"room\": \"elephant_graveyard\"\\n    }, \\n    {\\n      \"message\": \"I think those hyenas were even scareder\", \\n      \"name\": \"Simba\", \\n      \"room\": \"elephant_graveyard\"\\n    }, \\n    {\\n      \"message\": \"Yes ... So whenever you feel alone, just remember that those kings will always be there to guide you ... And so will I.\", \\n      \"name\": \"Mufasa\", \\n      \"room\": \"elephant_graveyard\"\\n    }\\n  ]\\n}\\n'\n"
     ]
    }
   ],
   "source": [
    "urlAddMessag = API_URL + \"/chat/elephant_graveyard/addmessages\"\n",
    "addmessage = requests.post(urlAddMessag, json = message_addeleph)\n",
    "print(addmessage.content)"
   ]
  },
  {
   "cell_type": "code",
   "execution_count": 30,
   "metadata": {},
   "outputs": [],
   "source": [
    "message_addhakuna = {\"message\":[{'name': 'Timon',\n",
    "  'message': 'Welcome... to our humble home.',\n",
    "  'room': 'hakuna_matata'},\n",
    " {'name': 'Pumba',\n",
    "  'message': 'Yep. Home is where your rump rests. Heh!',\n",
    "  'room': 'hakuna_matata'},\n",
    " {'name': 'Timon',\n",
    "  'message': 'Nope. Listen, kid; if you live with us, you have to eat like us. Hey, this looks like a good spot to rustle up some grub.',\n",
    "  'room': 'hakuna_matata'},\n",
    " {'name': 'Pumba',\n",
    "  'message': 'Slimy, yet satisfying.',\n",
    "  'room': 'hakuna_matata'},\n",
    " {'name': 'Pumba',\n",
    "  'message': \"You’ll learn to love 'em!\",\n",
    "  'room': 'hakuna_matata'},\n",
    " {'name': 'Nala',\n",
    "  'message': \"I've really missed you.\",\n",
    "  'room': 'hakuna_matata'},\n",
    " {'name': 'Pumba',\n",
    "  'message': \"What's wrong with that?\",\n",
    "  'room': 'hakuna_matata'},\n",
    " {'name': 'Timon', 'message': 'This stinks.', 'room': 'hakuna_matata'},\n",
    " {'name': 'Nala',\n",
    "  'message': \"it is beautiful.... But I don't understand something. You've been alive all this time. Why didn't you come back to Pride Rock?\",\n",
    "  'room': 'hakuna_matata'},\n",
    " {'name': 'Simba',\n",
    "  'message': \"Well, I just ... needed to get out on my own. Live my own life. And I did. And it's great! Nala: We've really needed you at home\",\n",
    "  'room': 'hakuna_matata'},\n",
    " {'name': 'Simba',\n",
    "  'message': \"You're right; I'm not. Now are you satisfied?\",\n",
    "  'room': 'hakuna_matata'},\n",
    " {'name': 'Nala',\n",
    "  'message': 'No, just disappointed.',\n",
    "  'room': 'hakuna_matata'},\n",
    " {'name': 'Simba',\n",
    "  'message': \"give me one good reason why I shouldn't rip you apart.\",\n",
    "  'room': 'hakuna_matata'},\n",
    " {'name': 'Scar',\n",
    "  'message': 'Oh, oh, ye-- Well, I don’t think I can do that. The hyenas think I’m king.',\n",
    "  'room': 'hakuna_matata'},\n",
    " {'name': 'Scar',\n",
    "  'message': \"Oh, must it all end in violence? I'd hate to be responsible for the death of a family member. Wouldn't you agree, Simba?\",\n",
    "  'room': 'hakuna_matata'}]}"
   ]
  },
  {
   "cell_type": "code",
   "execution_count": 31,
   "metadata": {},
   "outputs": [
    {
     "name": "stdout",
     "output_type": "stream",
     "text": [
      "b'{\\n  \"message\": [\\n    {\\n      \"message\": \"Welcome... to our humble home.\", \\n      \"name\": \"Timon\", \\n      \"room\": \"hakuna_matata\"\\n    }, \\n    {\\n      \"message\": \"Yep. Home is where your rump rests. Heh!\", \\n      \"name\": \"Pumba\", \\n      \"room\": \"hakuna_matata\"\\n    }, \\n    {\\n      \"message\": \"Nope. Listen, kid; if you live with us, you have to eat like us. Hey, this looks like a good spot to rustle up some grub.\", \\n      \"name\": \"Timon\", \\n      \"room\": \"hakuna_matata\"\\n    }, \\n    {\\n      \"message\": \"Slimy, yet satisfying.\", \\n      \"name\": \"Pumba\", \\n      \"room\": \"hakuna_matata\"\\n    }, \\n    {\\n      \"message\": \"You\\\\u2019ll learn to love \\'em!\", \\n      \"name\": \"Pumba\", \\n      \"room\": \"hakuna_matata\"\\n    }, \\n    {\\n      \"message\": \"I\\'ve really missed you.\", \\n      \"name\": \"Nala\", \\n      \"room\": \"hakuna_matata\"\\n    }, \\n    {\\n      \"message\": \"What\\'s wrong with that?\", \\n      \"name\": \"Pumba\", \\n      \"room\": \"hakuna_matata\"\\n    }, \\n    {\\n      \"message\": \"This stinks.\", \\n      \"name\": \"Timon\", \\n      \"room\": \"hakuna_matata\"\\n    }, \\n    {\\n      \"message\": \"it is beautiful.... But I don\\'t understand something. You\\'ve been alive all this time. Why didn\\'t you come back to Pride Rock?\", \\n      \"name\": \"Nala\", \\n      \"room\": \"hakuna_matata\"\\n    }, \\n    {\\n      \"message\": \"Well, I just ... needed to get out on my own. Live my own life. And I did. And it\\'s great! Nala: We\\'ve really needed you at home\", \\n      \"name\": \"Simba\", \\n      \"room\": \"hakuna_matata\"\\n    }, \\n    {\\n      \"message\": \"You\\'re right; I\\'m not. Now are you satisfied?\", \\n      \"name\": \"Simba\", \\n      \"room\": \"hakuna_matata\"\\n    }, \\n    {\\n      \"message\": \"No, just disappointed.\", \\n      \"name\": \"Nala\", \\n      \"room\": \"hakuna_matata\"\\n    }, \\n    {\\n      \"message\": \"give me one good reason why I shouldn\\'t rip you apart.\", \\n      \"name\": \"Simba\", \\n      \"room\": \"hakuna_matata\"\\n    }, \\n    {\\n      \"message\": \"Oh, oh, ye-- Well, I don\\\\u2019t think I can do that. The hyenas think I\\\\u2019m king.\", \\n      \"name\": \"Scar\", \\n      \"room\": \"hakuna_matata\"\\n    }, \\n    {\\n      \"message\": \"Oh, must it all end in violence? I\\'d hate to be responsible for the death of a family member. Wouldn\\'t you agree, Simba?\", \\n      \"name\": \"Scar\", \\n      \"room\": \"hakuna_matata\"\\n    }\\n  ]\\n}\\n'\n"
     ]
    }
   ],
   "source": [
    "urlAddMessag = API_URL + \"/chat/hakuna_matata/addmessages\"\n",
    "addmessage = requests.post(urlAddMessag, json = message_addhakuna)\n",
    "print(addmessage.content)"
   ]
  },
  {
   "cell_type": "code",
   "execution_count": 32,
   "metadata": {},
   "outputs": [
    {
     "data": {
      "text/plain": [
       "{'messages': [{'message': \"Why! If it isn't my big brother descending from on high to mingle with the commoners.\"},\n",
       "  {'message': \"Sarabi and I didn't see you at the presentation of Simba.\"},\n",
       "  {'message': 'That was today? Oh, I feel simply awful.'},\n",
       "  {'message': 'Must have slipped my mind.'},\n",
       "  {'message': \"Yes, well, as slippery as your mind is, as the king's brother, you should have been first\"},\n",
       "  {'message': 'Well, I was first in line... until the little hairball was born.'},\n",
       "  {'message': 'That “hairball” is my son -and your future king.'},\n",
       "  {'message': 'Ohh, I shall practice my curtsy.'},\n",
       "  {'message': \"Don't turn your back on me, Scar.\"},\n",
       "  {'message': \"On, no, Mufasa. Perhaps you shouldn't turn your back on me.\"},\n",
       "  {'message': 'Is that a challenge?'},\n",
       "  {'message': \"Temper, temper. I wouldn't dream of challenging you.\"},\n",
       "  {'message': 'Pity! Why not?'},\n",
       "  {'message': \"Well, as far as brains go, I got the lion's share. But, when it comes to brute strength..I'm afraid I'm at the shallow end of the gene pool.\"},\n",
       "  {'message': \"here's one in every family sire... Two in mine actually. And they always\"},\n",
       "  {'message': \"Why! If it isn't my big brother descending from on high to mingle with the commoners.\"},\n",
       "  {'message': \"Sarabi and I didn't see you at the presentation of Simba.\"},\n",
       "  {'message': 'That was today? Oh, I feel simply awful.'},\n",
       "  {'message': 'Must have slipped my mind.'},\n",
       "  {'message': \"Yes, well, as slippery as your mind is, as the king's brother, you should have been first\"},\n",
       "  {'message': 'Well, I was first in line... until the little hairball was born.'},\n",
       "  {'message': 'That “hairball” is my son -and your future king.'},\n",
       "  {'message': 'Ohh, I shall practice my curtsy.'},\n",
       "  {'message': \"Don't turn your back on me, Scar.\"},\n",
       "  {'message': \"On, no, Mufasa. Perhaps you shouldn't turn your back on me.\"},\n",
       "  {'message': 'Is that a challenge?'},\n",
       "  {'message': \"Temper, temper. I wouldn't dream of challenging you.\"},\n",
       "  {'message': 'Pity! Why not?'},\n",
       "  {'message': \"Well, as far as brains go, I got the lion's share. But, when it comes to brute strength..I'm afraid I'm at the shallow end of the gene pool.\"},\n",
       "  {'message': \"here's one in every family sire... Two in mine actually. And they always\"}]}"
      ]
     },
     "execution_count": 32,
     "metadata": {},
     "output_type": "execute_result"
    }
   ],
   "source": [
    "urlChat = API_URL + \"/chat/birth\"\n",
    "a = requests.get(urlChat).json()\n",
    "a"
   ]
  },
  {
   "cell_type": "code",
   "execution_count": 33,
   "metadata": {},
   "outputs": [
    {
     "data": {
      "text/plain": [
       "{'messages': [{'message': 'All right, it worked!'},\n",
       "  {'message': \"We lost 'im. I told you we would. He’s a dodo.\"},\n",
       "  {'message': 'I ... am a genius.'},\n",
       "  {'message': 'Hey, Genius, it was my idea.'},\n",
       "  {'message': 'Yeah, but I pulled it off.'},\n",
       "  {'message': 'This is it.... We made it!'},\n",
       "  {'message': \"It's really creepy.\"},\n",
       "  {'message': \"Yeah... isn't it great?\"},\n",
       "  {'message': 'We could get in big trouble.'},\n",
       "  {'message': 'I know, huh.'},\n",
       "  {'message': 'I wonder if its brains are still in there.'},\n",
       "  {'message': \"There's only one way to know. Come on. Let’s go check it out.,\"},\n",
       "  {'message': 'The only checking out you will do will be to check out of here.,'},\n",
       "  {'message': 'Aw, man.'},\n",
       "  {'message': 'Busted!'},\n",
       "  {'message': \"We're way beyond the boundary of the Pride Lands.\"},\n",
       "  {'message': 'Huh. Look, banana beak is scared. Heh'},\n",
       "  {'message': \"Dad, I'm.... I'm sorry\"},\n",
       "  {'message': 'worse, - you put Nala in danger!'},\n",
       "  {'message': \"But you're not scared of anything\"},\n",
       "  {'message': 'I think those hyenas were even scareder'},\n",
       "  {'message': 'Yes ... So whenever you feel alone, just remember that those kings will always be there to guide you ... And so will I.'}]}"
      ]
     },
     "execution_count": 33,
     "metadata": {},
     "output_type": "execute_result"
    }
   ],
   "source": [
    "urlgetMessag = API_URL + \"/chat/elephant_graveyard\"\n",
    "getmessage = requests.get(urlgetMessag).json()\n",
    "getmessage"
   ]
  },
  {
   "cell_type": "code",
   "execution_count": 34,
   "metadata": {},
   "outputs": [
    {
     "data": {
      "text/plain": [
       "{'messages': [{'message': 'Welcome... to our humble home.'},\n",
       "  {'message': 'Yep. Home is where your rump rests. Heh!'},\n",
       "  {'message': 'Nope. Listen, kid; if you live with us, you have to eat like us. Hey, this looks like a good spot to rustle up some grub.'},\n",
       "  {'message': 'Slimy, yet satisfying.'},\n",
       "  {'message': \"You’ll learn to love 'em!\"},\n",
       "  {'message': \"I've really missed you.\"},\n",
       "  {'message': \"What's wrong with that?\"},\n",
       "  {'message': 'This stinks.'},\n",
       "  {'message': \"it is beautiful.... But I don't understand something. You've been alive all this time. Why didn't you come back to Pride Rock?\"},\n",
       "  {'message': \"Well, I just ... needed to get out on my own. Live my own life. And I did. And it's great! Nala: We've really needed you at home\"},\n",
       "  {'message': \"You're right; I'm not. Now are you satisfied?\"},\n",
       "  {'message': 'No, just disappointed.'},\n",
       "  {'message': \"give me one good reason why I shouldn't rip you apart.\"},\n",
       "  {'message': 'Oh, oh, ye-- Well, I don’t think I can do that. The hyenas think I’m king.'},\n",
       "  {'message': \"Oh, must it all end in violence? I'd hate to be responsible for the death of a family member. Wouldn't you agree, Simba?\"},\n",
       "  {'message': 'Welcome... to our humble home.'},\n",
       "  {'message': 'Yep. Home is where your rump rests. Heh!'},\n",
       "  {'message': 'Nope. Listen, kid; if you live with us, you have to eat like us. Hey, this looks like a good spot to rustle up some grub.'},\n",
       "  {'message': 'Slimy, yet satisfying.'},\n",
       "  {'message': \"You’ll learn to love 'em!\"},\n",
       "  {'message': \"I've really missed you.\"},\n",
       "  {'message': \"What's wrong with that?\"},\n",
       "  {'message': 'This stinks.'},\n",
       "  {'message': \"it is beautiful.... But I don't understand something. You've been alive all this time. Why didn't you come back to Pride Rock?\"},\n",
       "  {'message': \"Well, I just ... needed to get out on my own. Live my own life. And I did. And it's great! Nala: We've really needed you at home\"},\n",
       "  {'message': \"You're right; I'm not. Now are you satisfied?\"},\n",
       "  {'message': 'No, just disappointed.'},\n",
       "  {'message': \"give me one good reason why I shouldn't rip you apart.\"},\n",
       "  {'message': 'Oh, oh, ye-- Well, I don’t think I can do that. The hyenas think I’m king.'},\n",
       "  {'message': \"Oh, must it all end in violence? I'd hate to be responsible for the death of a family member. Wouldn't you agree, Simba?\"}]}"
      ]
     },
     "execution_count": 34,
     "metadata": {},
     "output_type": "execute_result"
    }
   ],
   "source": [
    "urlgetMessag = API_URL + \"/chat/hakuna_matata\"\n",
    "getmessage = requests.get(urlgetMessag).json()\n",
    "getmessage"
   ]
  },
  {
   "cell_type": "code",
   "execution_count": 35,
   "metadata": {},
   "outputs": [
    {
     "data": {
      "text/plain": [
       "{'messages': [{'message': 'Simba: Yeah!'},\n",
       "  {'message': 'Look Simba.,,Everything the light touches is our kingdom.'},\n",
       "  {'message': \"A king's time as ruler rises and falls like the sun. One day Simba, the sun will set on my\"},\n",
       "  {'message': 'And this’ll all be mine?'},\n",
       "  {'message': 'Everything.'},\n",
       "  {'message': 'Everything the light touches. What about that shadowy place?'},\n",
       "  {'message': \"That's beyond our borders; you must never go there, Simba.\"},\n",
       "  {'message': 'But I thought a king can do whatever he wants.'},\n",
       "  {'message': \"Oh, there's more to being king than-- getting your way all the time.\"},\n",
       "  {'message': \"There's more?\"},\n",
       "  {'message': 'Everything you see exists together, in a delicate balance. As king, you need to understand,the balance, and have respect all the creatures-- from the crawling ant to the leaping antelope.'},\n",
       "  {'message': \"But, Dad, don't we eat the antelope?,\"},\n",
       "  {'message': 'Yes, Simba, but let me explain. When we die, our bodies become the grass. And the, antelope eat the grass. And so we are all connected in the great Circle of Life.'},\n",
       "  {'message': 'Simba: Yeah!'},\n",
       "  {'message': 'Look Simba.,,Everything the light touches is our kingdom.'},\n",
       "  {'message': \"A king's time as ruler rises and falls like the sun. One day Simba, the sun will set on my\"},\n",
       "  {'message': 'And this’ll all be mine?'},\n",
       "  {'message': 'Everything.'},\n",
       "  {'message': 'Everything the light touches. What about that shadowy place?'},\n",
       "  {'message': \"That's beyond our borders; you must never go there, Simba.\"},\n",
       "  {'message': 'But I thought a king can do whatever he wants.'},\n",
       "  {'message': \"Oh, there's more to being king than-- getting your way all the time.\"},\n",
       "  {'message': \"There's more?\"},\n",
       "  {'message': 'Everything you see exists together, in a delicate balance. As king, you need to understand,the balance, and have respect all the creatures-- from the crawling ant to the leaping antelope.'},\n",
       "  {'message': \"But, Dad, don't we eat the antelope?,\"},\n",
       "  {'message': 'Yes, Simba, but let me explain. When we die, our bodies become the grass. And the, antelope eat the grass. And so we are all connected in the great Circle of Life.'}]}"
      ]
     },
     "execution_count": 35,
     "metadata": {},
     "output_type": "execute_result"
    }
   ],
   "source": [
    "urlgetMessag = API_URL + \"/chat/growing_up\"\n",
    "getmessage = requests.get(urlgetMessag).json()\n",
    "getmessage"
   ]
  },
  {
   "cell_type": "code",
   "execution_count": 41,
   "metadata": {},
   "outputs": [
    {
     "data": {
      "text/plain": [
       "{'messages': [{'name': 'Rafiki',\n",
       "   'message': 'We would like to take a few moments to get you acquainted with the story of Simba.,,',\n",
       "   'room': 'birth'},\n",
       "  {'name': 'Scar',\n",
       "   'message': \"Why! If it isn't my big brother descending from on high to mingle with the commoners.\",\n",
       "   'room': 'birth'},\n",
       "  {'name': 'Mufasa',\n",
       "   'message': \"Sarabi and I didn't see you at the presentation of Simba.\",\n",
       "   'room': 'birth'},\n",
       "  {'name': 'Scar',\n",
       "   'message': 'That was today? Oh, I feel simply awful.',\n",
       "   'room': 'birth'},\n",
       "  {'name': 'Scar', 'message': 'Must have slipped my mind.', 'room': 'birth'},\n",
       "  {'name': 'Zazu',\n",
       "   'message': \"Yes, well, as slippery as your mind is, as the king's brother, you should have been first\",\n",
       "   'room': 'birth'},\n",
       "  {'name': 'Scar',\n",
       "   'message': 'Well, I was first in line... until the little hairball was born.',\n",
       "   'room': 'birth'},\n",
       "  {'name': 'Mufasa',\n",
       "   'message': 'That “hairball” is my son -and your future king.',\n",
       "   'room': 'birth'},\n",
       "  {'name': 'Scar',\n",
       "   'message': 'Ohh, I shall practice my curtsy.',\n",
       "   'room': 'birth'},\n",
       "  {'name': 'Mufasa',\n",
       "   'message': \"Don't turn your back on me, Scar.\",\n",
       "   'room': 'birth'},\n",
       "  {'name': 'Scar',\n",
       "   'message': \"On, no, Mufasa. Perhaps you shouldn't turn your back on me.\",\n",
       "   'room': 'birth'},\n",
       "  {'name': 'Mufasa', 'message': 'Is that a challenge?', 'room': 'birth'},\n",
       "  {'name': 'Scar',\n",
       "   'message': \"Temper, temper. I wouldn't dream of challenging you.\",\n",
       "   'room': 'birth'},\n",
       "  {'name': 'Zazu', 'message': 'Pity! Why not?', 'room': 'birth'},\n",
       "  {'name': 'Scar',\n",
       "   'message': \"Well, as far as brains go, I got the lion's share. But, when it comes to brute strength..I'm afraid I'm at the shallow end of the gene pool.\",\n",
       "   'room': 'birth'},\n",
       "  {'name': 'Zazu',\n",
       "   'message': \"here's one in every family sire... Two in mine actually. And they always\",\n",
       "   'room': 'birth'},\n",
       "  {'name': 'Simba', 'message': 'Simba: Yeah!', 'room': 'growing_up'},\n",
       "  {'name': 'Mufasa',\n",
       "   'message': 'Look Simba.,,Everything the light touches is our kingdom.',\n",
       "   'room': 'growing_up'},\n",
       "  {'name': 'Mufasa',\n",
       "   'message': \"A king's time as ruler rises and falls like the sun. One day Simba, the sun will set on my\",\n",
       "   'room': 'growing_up'},\n",
       "  {'name': 'Simba',\n",
       "   'message': 'And this’ll all be mine?',\n",
       "   'room': 'growing_up'},\n",
       "  {'name': 'Mufasa', 'message': 'Everything.', 'room': 'growing_up'},\n",
       "  {'name': 'Simba',\n",
       "   'message': 'Everything the light touches. What about that shadowy place?',\n",
       "   'room': 'growing_up'},\n",
       "  {'name': 'Mufasa',\n",
       "   'message': \"That's beyond our borders; you must never go there, Simba.\",\n",
       "   'room': 'growing_up'},\n",
       "  {'name': 'Simba',\n",
       "   'message': 'But I thought a king can do whatever he wants.',\n",
       "   'room': 'growing_up'},\n",
       "  {'name': 'Mufasa',\n",
       "   'message': \"Oh, there's more to being king than-- getting your way all the time.\",\n",
       "   'room': 'growing_up'},\n",
       "  {'name': 'Simba', 'message': \"There's more?\", 'room': 'growing_up'},\n",
       "  {'name': 'Mufasa',\n",
       "   'message': 'Everything you see exists together, in a delicate balance. As king, you need to understand,the balance, and have respect all the creatures-- from the crawling ant to the leaping antelope.',\n",
       "   'room': 'growing_up'},\n",
       "  {'name': 'Simba',\n",
       "   'message': \"But, Dad, don't we eat the antelope?,\",\n",
       "   'room': 'growing_up'},\n",
       "  {'name': 'Mufasa',\n",
       "   'message': 'Yes, Simba, but let me explain. When we die, our bodies become the grass. And the, antelope eat the grass. And so we are all connected in the great Circle of Life.',\n",
       "   'room': 'growing_up'},\n",
       "  {'name': 'Simba',\n",
       "   'message': 'All right, it worked!',\n",
       "   'room': 'elephant_graveyard'},\n",
       "  {'name': 'Nala',\n",
       "   'message': \"We lost 'im. I told you we would. He’s a dodo.\",\n",
       "   'room': 'elephant_graveyard'},\n",
       "  {'name': 'Simba',\n",
       "   'message': 'I ... am a genius.',\n",
       "   'room': 'elephant_graveyard'},\n",
       "  {'name': 'Nala',\n",
       "   'message': 'Hey, Genius, it was my idea.',\n",
       "   'room': 'elephant_graveyard'},\n",
       "  {'name': 'Simba',\n",
       "   'message': 'Yeah, but I pulled it off.',\n",
       "   'room': 'elephant_graveyard'},\n",
       "  {'name': 'Simba',\n",
       "   'message': 'This is it.... We made it!',\n",
       "   'room': 'elephant_graveyard'},\n",
       "  {'name': 'Nala',\n",
       "   'message': \"It's really creepy.\",\n",
       "   'room': 'elephant_graveyard'},\n",
       "  {'name': 'Simba',\n",
       "   'message': \"Yeah... isn't it great?\",\n",
       "   'room': 'elephant_graveyard'},\n",
       "  {'name': 'Nala',\n",
       "   'message': 'We could get in big trouble.',\n",
       "   'room': 'elephant_graveyard'},\n",
       "  {'name': 'Simba', 'message': 'I know, huh.', 'room': 'elephant_graveyard'},\n",
       "  {'name': 'Nala',\n",
       "   'message': 'I wonder if its brains are still in there.',\n",
       "   'room': 'elephant_graveyard'},\n",
       "  {'name': 'Simba',\n",
       "   'message': \"There's only one way to know. Come on. Let’s go check it out.,\",\n",
       "   'room': 'elephant_graveyard'},\n",
       "  {'name': 'Zazu',\n",
       "   'message': 'The only checking out you will do will be to check out of here.,',\n",
       "   'room': 'elephant_graveyard'},\n",
       "  {'name': 'Simba', 'message': 'Aw, man.', 'room': 'elephant_graveyard'},\n",
       "  {'name': 'Nala', 'message': 'Busted!', 'room': 'elephant_graveyard'},\n",
       "  {'name': 'Zazu',\n",
       "   'message': \"We're way beyond the boundary of the Pride Lands.\",\n",
       "   'room': 'elephant_graveyard'},\n",
       "  {'name': 'Simba',\n",
       "   'message': 'Huh. Look, banana beak is scared. Heh',\n",
       "   'room': 'elephant_graveyard'},\n",
       "  {'name': 'Simba',\n",
       "   'message': \"Dad, I'm.... I'm sorry\",\n",
       "   'room': 'elephant_graveyard'},\n",
       "  {'name': 'Mufasa',\n",
       "   'message': 'worse, - you put Nala in danger!',\n",
       "   'room': 'elephant_graveyard'},\n",
       "  {'name': 'Simba',\n",
       "   'message': \"But you're not scared of anything\",\n",
       "   'room': 'elephant_graveyard'},\n",
       "  {'name': 'Simba',\n",
       "   'message': 'I think those hyenas were even scareder',\n",
       "   'room': 'elephant_graveyard'},\n",
       "  {'name': 'Mufasa',\n",
       "   'message': 'Yes ... So whenever you feel alone, just remember that those kings will always be there to guide you ... And so will I.',\n",
       "   'room': 'elephant_graveyard'},\n",
       "  {'name': 'Timon',\n",
       "   'message': 'Welcome... to our humble home.',\n",
       "   'room': 'hakuna_matata'},\n",
       "  {'name': 'Pumba',\n",
       "   'message': 'Yep. Home is where your rump rests. Heh!',\n",
       "   'room': 'hakuna_matata'},\n",
       "  {'name': 'Timon',\n",
       "   'message': 'Nope. Listen, kid; if you live with us, you have to eat like us. Hey, this looks like a good spot to rustle up some grub.',\n",
       "   'room': 'hakuna_matata'},\n",
       "  {'name': 'Pumba',\n",
       "   'message': 'Slimy, yet satisfying.',\n",
       "   'room': 'hakuna_matata'},\n",
       "  {'name': 'Pumba',\n",
       "   'message': \"You’ll learn to love 'em!\",\n",
       "   'room': 'hakuna_matata'},\n",
       "  {'name': 'Nala',\n",
       "   'message': \"I've really missed you.\",\n",
       "   'room': 'hakuna_matata'},\n",
       "  {'name': 'Pumba',\n",
       "   'message': \"What's wrong with that?\",\n",
       "   'room': 'hakuna_matata'},\n",
       "  {'name': 'Timon', 'message': 'This stinks.', 'room': 'hakuna_matata'},\n",
       "  {'name': 'Nala',\n",
       "   'message': \"it is beautiful.... But I don't understand something. You've been alive all this time. Why didn't you come back to Pride Rock?\",\n",
       "   'room': 'hakuna_matata'},\n",
       "  {'name': 'Simba',\n",
       "   'message': \"Well, I just ... needed to get out on my own. Live my own life. And I did. And it's great! Nala: We've really needed you at home\",\n",
       "   'room': 'hakuna_matata'},\n",
       "  {'name': 'Simba',\n",
       "   'message': \"You're right; I'm not. Now are you satisfied?\",\n",
       "   'room': 'hakuna_matata'},\n",
       "  {'name': 'Nala',\n",
       "   'message': 'No, just disappointed.',\n",
       "   'room': 'hakuna_matata'},\n",
       "  {'name': 'Simba',\n",
       "   'message': \"give me one good reason why I shouldn't rip you apart.\",\n",
       "   'room': 'hakuna_matata'},\n",
       "  {'name': 'Scar',\n",
       "   'message': 'Oh, oh, ye-- Well, I don’t think I can do that. The hyenas think I’m king.',\n",
       "   'room': 'hakuna_matata'},\n",
       "  {'name': 'Scar',\n",
       "   'message': \"Oh, must it all end in violence? I'd hate to be responsible for the death of a family member. Wouldn't you agree, Simba?\",\n",
       "   'room': 'hakuna_matata'}]}"
      ]
     },
     "execution_count": 41,
     "metadata": {},
     "output_type": "execute_result"
    }
   ],
   "source": [
    "{\"messages\": messages(script_dict)}"
   ]
  },
  {
   "cell_type": "code",
   "execution_count": 24,
   "metadata": {},
   "outputs": [
    {
     "data": {
      "text/plain": [
       "[{'name': 'Rafiki', 'conversation': 'birth'},\n",
       " {'name': 'Scar', 'conversation': 'birth'},\n",
       " {'name': 'Mufasa', 'conversation': 'birth'},\n",
       " {'name': 'Zazu', 'conversation': 'birth'},\n",
       " {'name': 'Simba', 'conversation': 'growing_up'},\n",
       " {'name': 'Mufasa', 'conversation': 'growing_up'},\n",
       " {'name': 'Simba', 'conversation': 'elephant_graveyard'},\n",
       " {'name': 'Nala', 'conversation': 'elephant_graveyard'},\n",
       " {'name': 'Zazu', 'conversation': 'elephant_graveyard'},\n",
       " {'name': 'Mufasa', 'conversation': 'elephant_graveyard'},\n",
       " {'name': 'Timon', 'conversation': 'hakuna_matata'},\n",
       " {'name': 'Pumba', 'conversation': 'hakuna_matata'},\n",
       " {'name': 'Nala', 'conversation': 'hakuna_matata'},\n",
       " {'name': 'Simba', 'conversation': 'hakuna_matata'},\n",
       " {'name': 'Scar', 'conversation': 'hakuna_matata'}]"
      ]
     },
     "execution_count": 24,
     "metadata": {},
     "output_type": "execute_result"
    }
   ],
   "source": [
    "def conversation(script_dict):\n",
    "    conversatlist = []\n",
    "    for chat in range(len(script_dict)):\n",
    "        conversation = {\"name\": script_dict[chat][\"user\"],\n",
    "                   \"conversation\": script_dict[chat][\"conversation\"]}\n",
    "        if conversation not in conversatlist:\n",
    "            conversatlist.append(conversation)\n",
    "    return conversatlist\n",
    "conversation(script_dict) \n",
    "\n"
   ]
  },
  {
   "cell_type": "code",
   "execution_count": null,
   "metadata": {},
   "outputs": [],
   "source": []
  },
  {
   "cell_type": "code",
   "execution_count": null,
   "metadata": {},
   "outputs": [],
   "source": []
  },
  {
   "cell_type": "code",
   "execution_count": null,
   "metadata": {},
   "outputs": [],
   "source": []
  }
 ],
 "metadata": {
  "kernelspec": {
   "display_name": "Python 3",
   "language": "python",
   "name": "python3"
  },
  "language_info": {
   "codemirror_mode": {
    "name": "ipython",
    "version": 3
   },
   "file_extension": ".py",
   "mimetype": "text/x-python",
   "name": "python",
   "nbconvert_exporter": "python",
   "pygments_lexer": "ipython3",
   "version": "3.8.2"
  }
 },
 "nbformat": 4,
 "nbformat_minor": 4
}

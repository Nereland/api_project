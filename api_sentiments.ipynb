{
 "cells": [
  {
   "cell_type": "markdown",
   "metadata": {},
   "source": [
    "### Preparing all the modules I will need and I explore the structure of my data\n"
   ]
  },
  {
   "cell_type": "code",
   "execution_count": 2,
   "metadata": {},
   "outputs": [
    {
     "name": "stderr",
     "output_type": "stream",
     "text": [
      "[nltk_data] Downloading package vader_lexicon to\n",
      "[nltk_data]     /Users/nere/nltk_data...\n",
      "[nltk_data]   Package vader_lexicon is already up-to-date!\n"
     ]
    }
   ],
   "source": [
    "import requests\n",
    "import pandas as pd\n",
    "from pymongo import MongoClient\n",
    "import nltk\n",
    "from src.sentimentanalysis import analysis\n",
    "from src.exploredata import messages, players, conversation"
   ]
  },
  {
   "cell_type": "code",
   "execution_count": 6,
   "metadata": {
    "scrolled": true
   },
   "outputs": [
    {
     "data": {
      "text/html": [
       "<div>\n",
       "<style scoped>\n",
       "    .dataframe tbody tr th:only-of-type {\n",
       "        vertical-align: middle;\n",
       "    }\n",
       "\n",
       "    .dataframe tbody tr th {\n",
       "        vertical-align: top;\n",
       "    }\n",
       "\n",
       "    .dataframe thead th {\n",
       "        text-align: right;\n",
       "    }\n",
       "</style>\n",
       "<table border=\"1\" class=\"dataframe\">\n",
       "  <thead>\n",
       "    <tr style=\"text-align: right;\">\n",
       "      <th></th>\n",
       "      <th>user</th>\n",
       "      <th>message</th>\n",
       "      <th>conversation</th>\n",
       "    </tr>\n",
       "  </thead>\n",
       "  <tbody>\n",
       "    <tr>\n",
       "      <th>0</th>\n",
       "      <td>Rafiki</td>\n",
       "      <td>We would like to take a few moments to get you...</td>\n",
       "      <td>birth</td>\n",
       "    </tr>\n",
       "    <tr>\n",
       "      <th>1</th>\n",
       "      <td>Scar</td>\n",
       "      <td>Why! If it isn't my big brother descending fro...</td>\n",
       "      <td>birth</td>\n",
       "    </tr>\n",
       "    <tr>\n",
       "      <th>2</th>\n",
       "      <td>Mufasa</td>\n",
       "      <td>Sarabi and I didn't see you at the presentatio...</td>\n",
       "      <td>birth</td>\n",
       "    </tr>\n",
       "    <tr>\n",
       "      <th>3</th>\n",
       "      <td>Scar</td>\n",
       "      <td>That was today? Oh, I feel simply awful.</td>\n",
       "      <td>birth</td>\n",
       "    </tr>\n",
       "    <tr>\n",
       "      <th>4</th>\n",
       "      <td>Scar</td>\n",
       "      <td>Must have slipped my mind.</td>\n",
       "      <td>birth</td>\n",
       "    </tr>\n",
       "    <tr>\n",
       "      <th>5</th>\n",
       "      <td>Zazu</td>\n",
       "      <td>Yes, well, as slippery as your mind is, as the...</td>\n",
       "      <td>birth</td>\n",
       "    </tr>\n",
       "    <tr>\n",
       "      <th>6</th>\n",
       "      <td>Scar</td>\n",
       "      <td>Well, I was first in line... until the little ...</td>\n",
       "      <td>birth</td>\n",
       "    </tr>\n",
       "    <tr>\n",
       "      <th>7</th>\n",
       "      <td>Mufasa</td>\n",
       "      <td>That “hairball” is my son -and your future king.</td>\n",
       "      <td>birth</td>\n",
       "    </tr>\n",
       "    <tr>\n",
       "      <th>8</th>\n",
       "      <td>Scar</td>\n",
       "      <td>Ohh, I shall practice my curtsy.</td>\n",
       "      <td>birth</td>\n",
       "    </tr>\n",
       "    <tr>\n",
       "      <th>9</th>\n",
       "      <td>Mufasa</td>\n",
       "      <td>Don't turn your back on me, Scar.</td>\n",
       "      <td>birth</td>\n",
       "    </tr>\n",
       "    <tr>\n",
       "      <th>10</th>\n",
       "      <td>Scar</td>\n",
       "      <td>On, no, Mufasa. Perhaps you shouldn't turn you...</td>\n",
       "      <td>birth</td>\n",
       "    </tr>\n",
       "    <tr>\n",
       "      <th>11</th>\n",
       "      <td>Mufasa</td>\n",
       "      <td>Is that a challenge?</td>\n",
       "      <td>birth</td>\n",
       "    </tr>\n",
       "    <tr>\n",
       "      <th>12</th>\n",
       "      <td>Scar</td>\n",
       "      <td>Temper, temper. I wouldn't dream of challengin...</td>\n",
       "      <td>birth</td>\n",
       "    </tr>\n",
       "    <tr>\n",
       "      <th>13</th>\n",
       "      <td>Zazu</td>\n",
       "      <td>Pity! Why not?</td>\n",
       "      <td>birth</td>\n",
       "    </tr>\n",
       "    <tr>\n",
       "      <th>14</th>\n",
       "      <td>Scar</td>\n",
       "      <td>Well, as far as brains go, I got the lion's sh...</td>\n",
       "      <td>birth</td>\n",
       "    </tr>\n",
       "    <tr>\n",
       "      <th>15</th>\n",
       "      <td>Zazu</td>\n",
       "      <td>here's one in every family sire... Two in mine...</td>\n",
       "      <td>birth</td>\n",
       "    </tr>\n",
       "    <tr>\n",
       "      <th>16</th>\n",
       "      <td>Simba</td>\n",
       "      <td>Simba: Yeah!</td>\n",
       "      <td>growing_up</td>\n",
       "    </tr>\n",
       "    <tr>\n",
       "      <th>17</th>\n",
       "      <td>Mufasa</td>\n",
       "      <td>Look Simba.,,Everything the light touches is o...</td>\n",
       "      <td>growing_up</td>\n",
       "    </tr>\n",
       "    <tr>\n",
       "      <th>18</th>\n",
       "      <td>Mufasa</td>\n",
       "      <td>A king's time as ruler rises and falls like th...</td>\n",
       "      <td>growing_up</td>\n",
       "    </tr>\n",
       "    <tr>\n",
       "      <th>19</th>\n",
       "      <td>Simba</td>\n",
       "      <td>And this’ll all be mine?</td>\n",
       "      <td>growing_up</td>\n",
       "    </tr>\n",
       "    <tr>\n",
       "      <th>20</th>\n",
       "      <td>Mufasa</td>\n",
       "      <td>Everything.</td>\n",
       "      <td>growing_up</td>\n",
       "    </tr>\n",
       "    <tr>\n",
       "      <th>21</th>\n",
       "      <td>Simba</td>\n",
       "      <td>Everything the light touches. What about that ...</td>\n",
       "      <td>growing_up</td>\n",
       "    </tr>\n",
       "    <tr>\n",
       "      <th>22</th>\n",
       "      <td>Mufasa</td>\n",
       "      <td>That's beyond our borders; you must never go t...</td>\n",
       "      <td>growing_up</td>\n",
       "    </tr>\n",
       "    <tr>\n",
       "      <th>23</th>\n",
       "      <td>Simba</td>\n",
       "      <td>But I thought a king can do whatever he wants.</td>\n",
       "      <td>growing_up</td>\n",
       "    </tr>\n",
       "    <tr>\n",
       "      <th>24</th>\n",
       "      <td>Mufasa</td>\n",
       "      <td>Oh, there's more to being king than-- getting ...</td>\n",
       "      <td>growing_up</td>\n",
       "    </tr>\n",
       "    <tr>\n",
       "      <th>25</th>\n",
       "      <td>Simba</td>\n",
       "      <td>There's more?</td>\n",
       "      <td>growing_up</td>\n",
       "    </tr>\n",
       "    <tr>\n",
       "      <th>26</th>\n",
       "      <td>Mufasa</td>\n",
       "      <td>Everything you see exists together, in a delic...</td>\n",
       "      <td>growing_up</td>\n",
       "    </tr>\n",
       "    <tr>\n",
       "      <th>27</th>\n",
       "      <td>Simba</td>\n",
       "      <td>But, Dad, don't we eat the antelope?,</td>\n",
       "      <td>growing_up</td>\n",
       "    </tr>\n",
       "    <tr>\n",
       "      <th>28</th>\n",
       "      <td>Mufasa</td>\n",
       "      <td>Yes, Simba, but let me explain. When we die, o...</td>\n",
       "      <td>growing_up</td>\n",
       "    </tr>\n",
       "    <tr>\n",
       "      <th>29</th>\n",
       "      <td>Simba</td>\n",
       "      <td>All right, it worked!</td>\n",
       "      <td>elephant_graveyard</td>\n",
       "    </tr>\n",
       "    <tr>\n",
       "      <th>30</th>\n",
       "      <td>Nala</td>\n",
       "      <td>We lost 'im. I told you we would. He’s a dodo.</td>\n",
       "      <td>elephant_graveyard</td>\n",
       "    </tr>\n",
       "    <tr>\n",
       "      <th>31</th>\n",
       "      <td>Simba</td>\n",
       "      <td>I ... am a genius.</td>\n",
       "      <td>elephant_graveyard</td>\n",
       "    </tr>\n",
       "    <tr>\n",
       "      <th>32</th>\n",
       "      <td>Nala</td>\n",
       "      <td>Hey, Genius, it was my idea.</td>\n",
       "      <td>elephant_graveyard</td>\n",
       "    </tr>\n",
       "    <tr>\n",
       "      <th>33</th>\n",
       "      <td>Simba</td>\n",
       "      <td>Yeah, but I pulled it off.</td>\n",
       "      <td>elephant_graveyard</td>\n",
       "    </tr>\n",
       "    <tr>\n",
       "      <th>34</th>\n",
       "      <td>Simba</td>\n",
       "      <td>This is it.... We made it!</td>\n",
       "      <td>elephant_graveyard</td>\n",
       "    </tr>\n",
       "    <tr>\n",
       "      <th>35</th>\n",
       "      <td>Nala</td>\n",
       "      <td>It's really creepy.</td>\n",
       "      <td>elephant_graveyard</td>\n",
       "    </tr>\n",
       "    <tr>\n",
       "      <th>36</th>\n",
       "      <td>Simba</td>\n",
       "      <td>Yeah... isn't it great?</td>\n",
       "      <td>elephant_graveyard</td>\n",
       "    </tr>\n",
       "    <tr>\n",
       "      <th>37</th>\n",
       "      <td>Nala</td>\n",
       "      <td>We could get in big trouble.</td>\n",
       "      <td>elephant_graveyard</td>\n",
       "    </tr>\n",
       "    <tr>\n",
       "      <th>38</th>\n",
       "      <td>Simba</td>\n",
       "      <td>I know, huh.</td>\n",
       "      <td>elephant_graveyard</td>\n",
       "    </tr>\n",
       "    <tr>\n",
       "      <th>39</th>\n",
       "      <td>Nala</td>\n",
       "      <td>I wonder if its brains are still in there.</td>\n",
       "      <td>elephant_graveyard</td>\n",
       "    </tr>\n",
       "    <tr>\n",
       "      <th>40</th>\n",
       "      <td>Simba</td>\n",
       "      <td>There's only one way to know. Come on. Let’s g...</td>\n",
       "      <td>elephant_graveyard</td>\n",
       "    </tr>\n",
       "    <tr>\n",
       "      <th>41</th>\n",
       "      <td>Zazu</td>\n",
       "      <td>The only checking out you will do will be to c...</td>\n",
       "      <td>elephant_graveyard</td>\n",
       "    </tr>\n",
       "    <tr>\n",
       "      <th>42</th>\n",
       "      <td>Simba</td>\n",
       "      <td>Aw, man.</td>\n",
       "      <td>elephant_graveyard</td>\n",
       "    </tr>\n",
       "    <tr>\n",
       "      <th>43</th>\n",
       "      <td>Nala</td>\n",
       "      <td>Busted!</td>\n",
       "      <td>elephant_graveyard</td>\n",
       "    </tr>\n",
       "    <tr>\n",
       "      <th>44</th>\n",
       "      <td>Zazu</td>\n",
       "      <td>We're way beyond the boundary of the Pride Lands.</td>\n",
       "      <td>elephant_graveyard</td>\n",
       "    </tr>\n",
       "    <tr>\n",
       "      <th>45</th>\n",
       "      <td>Simba</td>\n",
       "      <td>Huh. Look, banana beak is scared. Heh</td>\n",
       "      <td>elephant_graveyard</td>\n",
       "    </tr>\n",
       "    <tr>\n",
       "      <th>46</th>\n",
       "      <td>Simba</td>\n",
       "      <td>Dad, I'm.... I'm sorry</td>\n",
       "      <td>elephant_graveyard</td>\n",
       "    </tr>\n",
       "    <tr>\n",
       "      <th>47</th>\n",
       "      <td>Mufasa</td>\n",
       "      <td>worse, - you put Nala in danger!</td>\n",
       "      <td>elephant_graveyard</td>\n",
       "    </tr>\n",
       "    <tr>\n",
       "      <th>48</th>\n",
       "      <td>Simba</td>\n",
       "      <td>But you're not scared of anything</td>\n",
       "      <td>elephant_graveyard</td>\n",
       "    </tr>\n",
       "    <tr>\n",
       "      <th>49</th>\n",
       "      <td>Simba</td>\n",
       "      <td>I think those hyenas were even scareder</td>\n",
       "      <td>elephant_graveyard</td>\n",
       "    </tr>\n",
       "  </tbody>\n",
       "</table>\n",
       "</div>"
      ],
      "text/plain": [
       "      user                                            message  \\\n",
       "0   Rafiki  We would like to take a few moments to get you...   \n",
       "1     Scar  Why! If it isn't my big brother descending fro...   \n",
       "2   Mufasa  Sarabi and I didn't see you at the presentatio...   \n",
       "3     Scar           That was today? Oh, I feel simply awful.   \n",
       "4     Scar                         Must have slipped my mind.   \n",
       "5     Zazu  Yes, well, as slippery as your mind is, as the...   \n",
       "6     Scar  Well, I was first in line... until the little ...   \n",
       "7   Mufasa   That “hairball” is my son -and your future king.   \n",
       "8     Scar                   Ohh, I shall practice my curtsy.   \n",
       "9   Mufasa                  Don't turn your back on me, Scar.   \n",
       "10    Scar  On, no, Mufasa. Perhaps you shouldn't turn you...   \n",
       "11  Mufasa                               Is that a challenge?   \n",
       "12    Scar  Temper, temper. I wouldn't dream of challengin...   \n",
       "13    Zazu                                     Pity! Why not?   \n",
       "14    Scar  Well, as far as brains go, I got the lion's sh...   \n",
       "15    Zazu  here's one in every family sire... Two in mine...   \n",
       "16   Simba                                       Simba: Yeah!   \n",
       "17  Mufasa  Look Simba.,,Everything the light touches is o...   \n",
       "18  Mufasa  A king's time as ruler rises and falls like th...   \n",
       "19   Simba                           And this’ll all be mine?   \n",
       "20  Mufasa                                        Everything.   \n",
       "21   Simba  Everything the light touches. What about that ...   \n",
       "22  Mufasa  That's beyond our borders; you must never go t...   \n",
       "23   Simba     But I thought a king can do whatever he wants.   \n",
       "24  Mufasa  Oh, there's more to being king than-- getting ...   \n",
       "25   Simba                                      There's more?   \n",
       "26  Mufasa  Everything you see exists together, in a delic...   \n",
       "27   Simba              But, Dad, don't we eat the antelope?,   \n",
       "28  Mufasa  Yes, Simba, but let me explain. When we die, o...   \n",
       "29   Simba                              All right, it worked!   \n",
       "30    Nala     We lost 'im. I told you we would. He’s a dodo.   \n",
       "31   Simba                                 I ... am a genius.   \n",
       "32    Nala                       Hey, Genius, it was my idea.   \n",
       "33   Simba                         Yeah, but I pulled it off.   \n",
       "34   Simba                         This is it.... We made it!   \n",
       "35    Nala                                It's really creepy.   \n",
       "36   Simba                            Yeah... isn't it great?   \n",
       "37    Nala                       We could get in big trouble.   \n",
       "38   Simba                                       I know, huh.   \n",
       "39    Nala         I wonder if its brains are still in there.   \n",
       "40   Simba  There's only one way to know. Come on. Let’s g...   \n",
       "41    Zazu  The only checking out you will do will be to c...   \n",
       "42   Simba                                           Aw, man.   \n",
       "43    Nala                                            Busted!   \n",
       "44    Zazu  We're way beyond the boundary of the Pride Lands.   \n",
       "45   Simba              Huh. Look, banana beak is scared. Heh   \n",
       "46   Simba                             Dad, I'm.... I'm sorry   \n",
       "47  Mufasa                   worse, - you put Nala in danger!   \n",
       "48   Simba                  But you're not scared of anything   \n",
       "49   Simba            I think those hyenas were even scareder   \n",
       "\n",
       "          conversation  \n",
       "0                birth  \n",
       "1                birth  \n",
       "2                birth  \n",
       "3                birth  \n",
       "4                birth  \n",
       "5                birth  \n",
       "6                birth  \n",
       "7                birth  \n",
       "8                birth  \n",
       "9                birth  \n",
       "10               birth  \n",
       "11               birth  \n",
       "12               birth  \n",
       "13               birth  \n",
       "14               birth  \n",
       "15               birth  \n",
       "16          growing_up  \n",
       "17          growing_up  \n",
       "18          growing_up  \n",
       "19          growing_up  \n",
       "20          growing_up  \n",
       "21          growing_up  \n",
       "22          growing_up  \n",
       "23          growing_up  \n",
       "24          growing_up  \n",
       "25          growing_up  \n",
       "26          growing_up  \n",
       "27          growing_up  \n",
       "28          growing_up  \n",
       "29  elephant_graveyard  \n",
       "30  elephant_graveyard  \n",
       "31  elephant_graveyard  \n",
       "32  elephant_graveyard  \n",
       "33  elephant_graveyard  \n",
       "34  elephant_graveyard  \n",
       "35  elephant_graveyard  \n",
       "36  elephant_graveyard  \n",
       "37  elephant_graveyard  \n",
       "38  elephant_graveyard  \n",
       "39  elephant_graveyard  \n",
       "40  elephant_graveyard  \n",
       "41  elephant_graveyard  \n",
       "42  elephant_graveyard  \n",
       "43  elephant_graveyard  \n",
       "44  elephant_graveyard  \n",
       "45  elephant_graveyard  \n",
       "46  elephant_graveyard  \n",
       "47  elephant_graveyard  \n",
       "48  elephant_graveyard  \n",
       "49  elephant_graveyard  "
      ]
     },
     "execution_count": 6,
     "metadata": {},
     "output_type": "execute_result"
    }
   ],
   "source": [
    "df = pd.read_csv(\"inputs/scriptlk.csv\", sep = \",\", engine = \"python\" )\n",
    "df.head(50)"
   ]
  },
  {
   "cell_type": "code",
   "execution_count": 3,
   "metadata": {},
   "outputs": [],
   "source": [
    "script_dict = df.to_dict(\"records\")"
   ]
  },
  {
   "cell_type": "code",
   "execution_count": 4,
   "metadata": {},
   "outputs": [
    {
     "data": {
      "text/plain": [
       "[{'name': 'Rafiki', 'conversation': 'birth'},\n",
       " {'name': 'Scar', 'conversation': 'birth'},\n",
       " {'name': 'Mufasa', 'conversation': 'birth'},\n",
       " {'name': 'Zazu', 'conversation': 'birth'},\n",
       " {'name': 'Simba', 'conversation': 'growing_up'}]"
      ]
     },
     "execution_count": 4,
     "metadata": {},
     "output_type": "execute_result"
    }
   ],
   "source": [
    "conversation(script_dict)[:5]"
   ]
  },
  {
   "cell_type": "code",
   "execution_count": 5,
   "metadata": {},
   "outputs": [
    {
     "data": {
      "text/plain": [
       "[{'name': 'Rafiki',\n",
       "  'message': 'We would like to take a few moments to get you acquainted with the story of Simba.,,',\n",
       "  'room': 'birth'},\n",
       " {'name': 'Scar',\n",
       "  'message': \"Why! If it isn't my big brother descending from on high to mingle with the commoners.\",\n",
       "  'room': 'birth'},\n",
       " {'name': 'Mufasa',\n",
       "  'message': \"Sarabi and I didn't see you at the presentation of Simba.\",\n",
       "  'room': 'birth'},\n",
       " {'name': 'Scar',\n",
       "  'message': 'That was today? Oh, I feel simply awful.',\n",
       "  'room': 'birth'},\n",
       " {'name': 'Scar', 'message': 'Must have slipped my mind.', 'room': 'birth'}]"
      ]
     },
     "execution_count": 5,
     "metadata": {},
     "output_type": "execute_result"
    }
   ],
   "source": [
    "messages(script_dict)[:5] "
   ]
  },
  {
   "cell_type": "markdown",
   "metadata": {},
   "source": [
    "## Creating users"
   ]
  },
  {
   "cell_type": "code",
   "execution_count": 6,
   "metadata": {
    "scrolled": true
   },
   "outputs": [
    {
     "data": {
      "text/plain": [
       "['Scar', 'Nala', 'Simba', 'Rafiki', 'Pumba', 'Timon', 'Mufasa', 'Zazu']"
      ]
     },
     "execution_count": 6,
     "metadata": {},
     "output_type": "execute_result"
    }
   ],
   "source": [
    "users = [script_dict[i][\"user\"] for i in range(len(script_dict))]\n",
    "users =list(set(users))\n",
    "users\n"
   ]
  },
  {
   "cell_type": "code",
   "execution_count": 7,
   "metadata": {
    "scrolled": true
   },
   "outputs": [
    {
     "data": {
      "text/plain": [
       "[{'name': 'Scar'},\n",
       " {'name': 'Nala'},\n",
       " {'name': 'Simba'},\n",
       " {'name': 'Rafiki'},\n",
       " {'name': 'Pumba'},\n",
       " {'name': 'Timon'},\n",
       " {'name': 'Mufasa'},\n",
       " {'name': 'Zazu'}]"
      ]
     },
     "execution_count": 7,
     "metadata": {},
     "output_type": "execute_result"
    }
   ],
   "source": [
    "players(users)"
   ]
  },
  {
   "cell_type": "code",
   "execution_count": 8,
   "metadata": {},
   "outputs": [],
   "source": [
    "API_URL = \"http://localhost:9042\""
   ]
  },
  {
   "cell_type": "code",
   "execution_count": 10,
   "metadata": {},
   "outputs": [
    {
     "name": "stdout",
     "output_type": "stream",
     "text": [
      "Scar\n",
      "b'{\\n  \"message\": \"User already exists\", \\n  \"user_id\": \"5f0d7569d4aeb03d3491f05b\"\\n}\\n'\n",
      "Nala\n",
      "b'{\\n  \"message\": \"User already exists\", \\n  \"user_id\": \"5f0d7569d4aeb03d3491f05c\"\\n}\\n'\n",
      "Simba\n",
      "b'{\\n  \"message\": \"User already exists\", \\n  \"user_id\": \"5f0d7569d4aeb03d3491f05d\"\\n}\\n'\n",
      "Rafiki\n",
      "b'{\\n  \"message\": \"User already exists\", \\n  \"user_id\": \"5f0d7569d4aeb03d3491f05e\"\\n}\\n'\n",
      "Pumba\n",
      "b'{\\n  \"message\": \"User already exists\", \\n  \"user_id\": \"5f0d7569d4aeb03d3491f05f\"\\n}\\n'\n",
      "Timon\n",
      "b'{\\n  \"message\": \"User already exists\", \\n  \"user_id\": \"5f0d7569d4aeb03d3491f060\"\\n}\\n'\n",
      "Mufasa\n",
      "b'{\\n  \"message\": \"User already exists\", \\n  \"user_id\": \"5f0d7569d4aeb03d3491f061\"\\n}\\n'\n",
      "Zazu\n",
      "b'{\\n  \"message\": \"User already exists\", \\n  \"user_id\": \"5f0d7569d4aeb03d3491f062\"\\n}\\n'\n"
     ]
    }
   ],
   "source": [
    "URL_CREATE_USER = \"/user/create/\"\n",
    "for name in users:\n",
    "    print(name)\n",
    "    createUser = requests.post(API_URL + URL_CREATE_USER + name)\n",
    "    print(createUser.content)"
   ]
  },
  {
   "cell_type": "markdown",
   "metadata": {},
   "source": [
    "## Creating conversations/chat rooms: birth, growing up, elephant graveyard and hakuna_matata\n"
   ]
  },
  {
   "cell_type": "code",
   "execution_count": 11,
   "metadata": {},
   "outputs": [],
   "source": [
    "rooms = ['birth', 'growing_up', 'elephant_graveyard', 'hakuna_matata']\n",
    "userbirth = {\"users\":[{'name': 'Rafiki'},{'name': 'Scar'} ,{'name': 'Zazu'}, {'name': 'Mufasa'}]}\n",
    "usergrow = {\"users\":[{'name': 'Simba'},{'name': 'Mufasa'}]}\n",
    "usereleph= {\"users\":[{'name': 'Simba'},{'name': 'Nala'} ,{'name': 'Zazu'}, {'name': 'Mufasa'}]}\n",
    "userhakuna = {\"users\":[{'name': 'Simba'},{'name': 'Nala'} ,{'name': 'Timon'}, {'name': 'Pumba'}, {'name': 'Scar'}]}"
   ]
  },
  {
   "cell_type": "code",
   "execution_count": 16,
   "metadata": {},
   "outputs": [
    {
     "name": "stdout",
     "output_type": "stream",
     "text": [
      "b'{\\n  \"message\": \"This room already exists, you cannot create two rooms with the same name\"\\n}\\n'\n"
     ]
    }
   ],
   "source": [
    "urlCreateChat = API_URL + \"/chat/create/birth\"\n",
    "Chat_create = requests.post(urlCreateChat, json = userbirth)\n",
    "print(Chat_create.content)"
   ]
  },
  {
   "cell_type": "code",
   "execution_count": 13,
   "metadata": {},
   "outputs": [
    {
     "name": "stdout",
     "output_type": "stream",
     "text": [
      "b'{\\n  \"conversation_id\": \"5f0d7581d4aeb03d3491f064\"\\n}\\n'\n"
     ]
    }
   ],
   "source": [
    "urlCreateChat = API_URL + \"/chat/create/growing_up\"\n",
    "Chat_create = requests.post(urlCreateChat, json = usergrow)\n",
    "print(Chat_create.content)"
   ]
  },
  {
   "cell_type": "code",
   "execution_count": 14,
   "metadata": {},
   "outputs": [
    {
     "name": "stdout",
     "output_type": "stream",
     "text": [
      "b'{\\n  \"conversation_id\": \"5f0d7582d4aeb03d3491f065\"\\n}\\n'\n"
     ]
    }
   ],
   "source": [
    "urlCreateChat = API_URL + \"/chat/create/elephant_graveyard\"\n",
    "Chat_create = requests.post(urlCreateChat, json = usereleph)\n",
    "print(Chat_create.content)"
   ]
  },
  {
   "cell_type": "code",
   "execution_count": 15,
   "metadata": {},
   "outputs": [
    {
     "name": "stdout",
     "output_type": "stream",
     "text": [
      "b'{\\n  \"conversation_id\": \"5f0d7582d4aeb03d3491f066\"\\n}\\n'\n"
     ]
    }
   ],
   "source": [
    "urlCreateChat = API_URL + \"/chat/create/hakuna_matata\"\n",
    "Chat_create = requests.post(urlCreateChat, json = userhakuna)\n",
    "print(Chat_create.content)"
   ]
  },
  {
   "cell_type": "markdown",
   "metadata": {},
   "source": [
    "## Adding a user to a conversation"
   ]
  },
  {
   "cell_type": "code",
   "execution_count": 17,
   "metadata": {},
   "outputs": [],
   "source": [
    "userbirth_add = {\"users\":[{'name': 'Pumba'}]}"
   ]
  },
  {
   "cell_type": "code",
   "execution_count": 19,
   "metadata": {},
   "outputs": [],
   "source": [
    "urlUdpateChat = API_URL + \"/chat/birth/adduser\"\n",
    "Chat_create = requests.post(urlUdpateChat, json = userbirth_add)"
   ]
  },
  {
   "cell_type": "markdown",
   "metadata": {},
   "source": [
    "## Adding messages to a conversation"
   ]
  },
  {
   "cell_type": "code",
   "execution_count": 20,
   "metadata": {},
   "outputs": [],
   "source": [
    "message_addbirth = {\"message\":[{'name': 'Scar',\n",
    "  'message': \"Why! If it isn't my big brother descending from on high to mingle with the commoners.\",\n",
    "  'room': 'birth'},\n",
    " {'name': 'Mufasa',\n",
    "  'message': \"Sarabi and I didn't see you at the presentation of Simba.\",\n",
    "  'room': 'birth'},\n",
    " {'name': 'Scar',\n",
    "  'message': 'That was today? Oh, I feel simply awful.',\n",
    "  'room': 'birth'},\n",
    " {'name': 'Scar', 'message': 'Must have slipped my mind.', 'room': 'birth'},\n",
    " {'name': 'Zazu',\n",
    "  'message': \"Yes, well, as slippery as your mind is, as the king's brother, you should have been first\",\n",
    "  'room': 'birth'},\n",
    " {'name': 'Scar',\n",
    "  'message': 'Well, I was first in line... until the little hairball was born.',\n",
    "  'room': 'birth'},\n",
    " {'name': 'Mufasa',\n",
    "  'message': 'That “hairball” is my son -and your future king.',\n",
    "  'room': 'birth'},\n",
    " {'name': 'Scar',\n",
    "  'message': 'Ohh, I shall practice my curtsy.',\n",
    "  'room': 'birth'},\n",
    " {'name': 'Mufasa',\n",
    "  'message': \"Don't turn your back on me, Scar.\",\n",
    "  'room': 'birth'},\n",
    " {'name': 'Scar',\n",
    "  'message': \"On, no, Mufasa. Perhaps you shouldn't turn your back on me.\",\n",
    "  'room': 'birth'},\n",
    " {'name': 'Mufasa', 'message': 'Is that a challenge?', 'room': 'birth'},\n",
    " {'name': 'Scar',\n",
    "  'message': \"Temper, temper. I wouldn't dream of challenging you.\",\n",
    "  'room': 'birth'},\n",
    " {'name': 'Zazu', 'message': 'Pity! Why not?', 'room': 'birth'},\n",
    " {'name': 'Scar',\n",
    "  'message': \"Well, as far as brains go, I got the lion's share. But, when it comes to brute strength..I'm afraid I'm at the shallow end of the gene pool.\",\n",
    "  'room': 'birth'},\n",
    " {'name': 'Zazu',\n",
    "  'message': \"here's one in every family sire... Two in mine actually. And they always\",\n",
    "  'room': 'birth'}]}"
   ]
  },
  {
   "cell_type": "code",
   "execution_count": 21,
   "metadata": {},
   "outputs": [
    {
     "name": "stdout",
     "output_type": "stream",
     "text": [
      "b'{\\n  \"message\": [\\n    {\\n      \"message\": \"Why! If it isn\\'t my big brother descending from on high to mingle with the commoners.\", \\n      \"name\": \"Scar\", \\n      \"room\": \"birth\"\\n    }, \\n    {\\n      \"message\": \"Sarabi and I didn\\'t see you at the presentation of Simba.\", \\n      \"name\": \"Mufasa\", \\n      \"room\": \"birth\"\\n    }, \\n    {\\n      \"message\": \"That was today? Oh, I feel simply awful.\", \\n      \"name\": \"Scar\", \\n      \"room\": \"birth\"\\n    }, \\n    {\\n      \"message\": \"Must have slipped my mind.\", \\n      \"name\": \"Scar\", \\n      \"room\": \"birth\"\\n    }, \\n    {\\n      \"message\": \"Yes, well, as slippery as your mind is, as the king\\'s brother, you should have been first\", \\n      \"name\": \"Zazu\", \\n      \"room\": \"birth\"\\n    }, \\n    {\\n      \"message\": \"Well, I was first in line... until the little hairball was born.\", \\n      \"name\": \"Scar\", \\n      \"room\": \"birth\"\\n    }, \\n    {\\n      \"message\": \"That \\\\u201chairball\\\\u201d is my son -and your future king.\", \\n      \"name\": \"Mufasa\", \\n      \"room\": \"birth\"\\n    }, \\n    {\\n      \"message\": \"Ohh, I shall practice my curtsy.\", \\n      \"name\": \"Scar\", \\n      \"room\": \"birth\"\\n    }, \\n    {\\n      \"message\": \"Don\\'t turn your back on me, Scar.\", \\n      \"name\": \"Mufasa\", \\n      \"room\": \"birth\"\\n    }, \\n    {\\n      \"message\": \"On, no, Mufasa. Perhaps you shouldn\\'t turn your back on me.\", \\n      \"name\": \"Scar\", \\n      \"room\": \"birth\"\\n    }, \\n    {\\n      \"message\": \"Is that a challenge?\", \\n      \"name\": \"Mufasa\", \\n      \"room\": \"birth\"\\n    }, \\n    {\\n      \"message\": \"Temper, temper. I wouldn\\'t dream of challenging you.\", \\n      \"name\": \"Scar\", \\n      \"room\": \"birth\"\\n    }, \\n    {\\n      \"message\": \"Pity! Why not?\", \\n      \"name\": \"Zazu\", \\n      \"room\": \"birth\"\\n    }, \\n    {\\n      \"message\": \"Well, as far as brains go, I got the lion\\'s share. But, when it comes to brute strength..I\\'m afraid I\\'m at the shallow end of the gene pool.\", \\n      \"name\": \"Scar\", \\n      \"room\": \"birth\"\\n    }, \\n    {\\n      \"message\": \"here\\'s one in every family sire... Two in mine actually. And they always\", \\n      \"name\": \"Zazu\", \\n      \"room\": \"birth\"\\n    }\\n  ]\\n}\\n'\n"
     ]
    }
   ],
   "source": [
    "urlAddMessag = API_URL + \"/chat/birth/addmessages\"\n",
    "addmessage = requests.post(urlAddMessag, json = message_addbirth)\n",
    "print(addmessage.content)"
   ]
  },
  {
   "cell_type": "code",
   "execution_count": 22,
   "metadata": {},
   "outputs": [],
   "source": [
    "message_addgrow = {\"message\":[{'name': 'Simba', 'message': 'Simba: Yeah!', 'room': 'growing_up'},\n",
    " {'name': 'Mufasa',\n",
    "  'message': 'Look Simba.,,Everything the light touches is our kingdom.',\n",
    "  'room': 'growing_up'},\n",
    " {'name': 'Mufasa',\n",
    "  'message': \"A king's time as ruler rises and falls like the sun. One day Simba, the sun will set on my\",\n",
    "  'room': 'growing_up'},\n",
    " {'name': 'Simba',\n",
    "  'message': 'And this’ll all be mine?',\n",
    "  'room': 'growing_up'},\n",
    " {'name': 'Mufasa', 'message': 'Everything.', 'room': 'growing_up'},\n",
    " {'name': 'Simba',\n",
    "  'message': 'Everything the light touches. What about that shadowy place?',\n",
    "  'room': 'growing_up'},\n",
    " {'name': 'Mufasa',\n",
    "  'message': \"That's beyond our borders; you must never go there, Simba.\",\n",
    "  'room': 'growing_up'},\n",
    " {'name': 'Simba',\n",
    "  'message': 'But I thought a king can do whatever he wants.',\n",
    "  'room': 'growing_up'},\n",
    " {'name': 'Mufasa',\n",
    "  'message': \"Oh, there's more to being king than-- getting your way all the time.\",\n",
    "  'room': 'growing_up'},\n",
    " {'name': 'Simba', 'message': \"There's more?\", 'room': 'growing_up'},\n",
    " {'name': 'Mufasa',\n",
    "  'message': 'Everything you see exists together, in a delicate balance. As king, you need to understand,the balance, and have respect all the creatures-- from the crawling ant to the leaping antelope.',\n",
    "  'room': 'growing_up'},\n",
    " {'name': 'Simba',\n",
    "  'message': \"But, Dad, don't we eat the antelope?,\",\n",
    "  'room': 'growing_up'},\n",
    " {'name': 'Mufasa',\n",
    "  'message': 'Yes, Simba, but let me explain. When we die, our bodies become the grass. And the, antelope eat the grass. And so we are all connected in the great Circle of Life.',\n",
    "  'room': 'growing_up'}]}\n",
    " "
   ]
  },
  {
   "cell_type": "code",
   "execution_count": 23,
   "metadata": {},
   "outputs": [],
   "source": [
    "urlAddMessag = API_URL + \"/chat/growing_up/addmessages\"\n",
    "addmessage = requests.post(urlAddMessag, json = message_addgrow)\n",
    "#print(addmessage.content)"
   ]
  },
  {
   "cell_type": "code",
   "execution_count": 24,
   "metadata": {},
   "outputs": [],
   "source": [
    "message_addeleph = {\"message\":[{'name': 'Simba',\n",
    "  'message': 'All right, it worked!',\n",
    "  'room': 'elephant_graveyard'},\n",
    " {'name': 'Nala',\n",
    "  'message': \"We lost 'im. I told you we would. He’s a dodo.\",\n",
    "  'room': 'elephant_graveyard'},\n",
    " {'name': 'Simba',\n",
    "  'message': 'I ... am a genius.',\n",
    "  'room': 'elephant_graveyard'},\n",
    " {'name': 'Nala',\n",
    "  'message': 'Hey, Genius, it was my idea.',\n",
    "  'room': 'elephant_graveyard'},\n",
    " {'name': 'Simba',\n",
    "  'message': 'Yeah, but I pulled it off.',\n",
    "  'room': 'elephant_graveyard'},\n",
    " {'name': 'Simba',\n",
    "  'message': 'This is it.... We made it!',\n",
    "  'room': 'elephant_graveyard'},\n",
    " {'name': 'Nala',\n",
    "  'message': \"It's really creepy.\",\n",
    "  'room': 'elephant_graveyard'},\n",
    " {'name': 'Simba',\n",
    "  'message': \"Yeah... isn't it great?\",\n",
    "  'room': 'elephant_graveyard'},\n",
    " {'name': 'Nala',\n",
    "  'message': 'We could get in big trouble.',\n",
    "  'room': 'elephant_graveyard'},\n",
    " {'name': 'Simba', 'message': 'I know, huh.', 'room': 'elephant_graveyard'},\n",
    " {'name': 'Nala',\n",
    "  'message': 'I wonder if its brains are still in there.',\n",
    "  'room': 'elephant_graveyard'},\n",
    " {'name': 'Simba',\n",
    "  'message': \"There's only one way to know. Come on. Let’s go check it out.,\",\n",
    "  'room': 'elephant_graveyard'},\n",
    " {'name': 'Zazu',\n",
    "  'message': 'The only checking out you will do will be to check out of here.,',\n",
    "  'room': 'elephant_graveyard'},\n",
    " {'name': 'Simba', 'message': 'Aw, man.', 'room': 'elephant_graveyard'},\n",
    " {'name': 'Nala', 'message': 'Busted!', 'room': 'elephant_graveyard'},\n",
    " {'name': 'Zazu',\n",
    "  'message': \"We're way beyond the boundary of the Pride Lands.\",\n",
    "  'room': 'elephant_graveyard'},\n",
    " {'name': 'Simba',\n",
    "  'message': 'Huh. Look, banana beak is scared. Heh',\n",
    "  'room': 'elephant_graveyard'},\n",
    " {'name': 'Simba',\n",
    "  'message': \"Dad, I'm.... I'm sorry\",\n",
    "  'room': 'elephant_graveyard'},\n",
    " {'name': 'Mufasa',\n",
    "  'message': 'worse, - you put Nala in danger!',\n",
    "  'room': 'elephant_graveyard'},\n",
    " {'name': 'Simba',\n",
    "  'message': \"But you're not scared of anything\",\n",
    "  'room': 'elephant_graveyard'},\n",
    " {'name': 'Simba',\n",
    "  'message': 'I think those hyenas were even scareder',\n",
    "  'room': 'elephant_graveyard'},\n",
    " {'name': 'Mufasa',\n",
    "  'message': 'Yes ... So whenever you feel alone, just remember that those kings will always be there to guide you ... And so will I.',\n",
    "  'room': 'elephant_graveyard'}]}\n",
    " \n"
   ]
  },
  {
   "cell_type": "code",
   "execution_count": 25,
   "metadata": {},
   "outputs": [],
   "source": [
    "urlAddMessag = API_URL + \"/chat/elephant_graveyard/addmessages\"\n",
    "addmessage = requests.post(urlAddMessag, json = message_addeleph)\n",
    "#print(addmessage.content)"
   ]
  },
  {
   "cell_type": "code",
   "execution_count": 26,
   "metadata": {},
   "outputs": [],
   "source": [
    "message_addhakuna = {\"message\":[{'name': 'Timon',\n",
    "  'message': 'Welcome... to our humble home.',\n",
    "  'room': 'hakuna_matata'},\n",
    " {'name': 'Pumba',\n",
    "  'message': 'Yep. Home is where your rump rests. Heh!',\n",
    "  'room': 'hakuna_matata'},\n",
    " {'name': 'Timon',\n",
    "  'message': 'Nope. Listen, kid; if you live with us, you have to eat like us. Hey, this looks like a good spot to rustle up some grub.',\n",
    "  'room': 'hakuna_matata'},\n",
    " {'name': 'Pumba',\n",
    "  'message': 'Slimy, yet satisfying.',\n",
    "  'room': 'hakuna_matata'},\n",
    " {'name': 'Pumba',\n",
    "  'message': \"You’ll learn to love 'em!\",\n",
    "  'room': 'hakuna_matata'},\n",
    " {'name': 'Nala',\n",
    "  'message': \"I've really missed you.\",\n",
    "  'room': 'hakuna_matata'},\n",
    " {'name': 'Pumba',\n",
    "  'message': \"What's wrong with that?\",\n",
    "  'room': 'hakuna_matata'},\n",
    " {'name': 'Timon', 'message': 'This stinks.', 'room': 'hakuna_matata'},\n",
    " {'name': 'Nala',\n",
    "  'message': \"it is beautiful.... But I don't understand something. You've been alive all this time. Why didn't you come back to Pride Rock?\",\n",
    "  'room': 'hakuna_matata'},\n",
    " {'name': 'Simba',\n",
    "  'message': \"Well, I just ... needed to get out on my own. Live my own life. And I did. And it's great! Nala: We've really needed you at home\",\n",
    "  'room': 'hakuna_matata'},\n",
    " {'name': 'Simba',\n",
    "  'message': \"You're right; I'm not. Now are you satisfied?\",\n",
    "  'room': 'hakuna_matata'},\n",
    " {'name': 'Nala',\n",
    "  'message': 'No, just disappointed.',\n",
    "  'room': 'hakuna_matata'},\n",
    " {'name': 'Simba',\n",
    "  'message': \"give me one good reason why I shouldn't rip you apart.\",\n",
    "  'room': 'hakuna_matata'},\n",
    " {'name': 'Scar',\n",
    "  'message': 'Oh, oh, ye-- Well, I don’t think I can do that. The hyenas think I’m king.',\n",
    "  'room': 'hakuna_matata'},\n",
    " {'name': 'Scar',\n",
    "  'message': \"Oh, must it all end in violence? I'd hate to be responsible for the death of a family member. Wouldn't you agree, Simba?\",\n",
    "  'room': 'hakuna_matata'}]}"
   ]
  },
  {
   "cell_type": "code",
   "execution_count": 27,
   "metadata": {},
   "outputs": [],
   "source": [
    "urlAddMessag = API_URL + \"/chat/hakuna_matata/addmessages\"\n",
    "addmessage = requests.post(urlAddMessag, json = message_addhakuna)\n",
    "#print(addmessage.content)"
   ]
  },
  {
   "cell_type": "markdown",
   "metadata": {},
   "source": [
    "## Getting messages from the every chat collection in MongoDB\n",
    "\n",
    "### Just an example"
   ]
  },
  {
   "cell_type": "code",
   "execution_count": 28,
   "metadata": {},
   "outputs": [
    {
     "data": {
      "text/plain": [
       "{'messages': [{'message': \"Why! If it isn't my big brother descending from on high to mingle with the commoners.\"},\n",
       "  {'message': \"Sarabi and I didn't see you at the presentation of Simba.\"},\n",
       "  {'message': 'That was today? Oh, I feel simply awful.'},\n",
       "  {'message': 'Must have slipped my mind.'},\n",
       "  {'message': \"Yes, well, as slippery as your mind is, as the king's brother, you should have been first\"},\n",
       "  {'message': 'Well, I was first in line... until the little hairball was born.'},\n",
       "  {'message': 'That “hairball” is my son -and your future king.'},\n",
       "  {'message': 'Ohh, I shall practice my curtsy.'},\n",
       "  {'message': \"Don't turn your back on me, Scar.\"},\n",
       "  {'message': \"On, no, Mufasa. Perhaps you shouldn't turn your back on me.\"},\n",
       "  {'message': 'Is that a challenge?'},\n",
       "  {'message': \"Temper, temper. I wouldn't dream of challenging you.\"},\n",
       "  {'message': 'Pity! Why not?'},\n",
       "  {'message': \"Well, as far as brains go, I got the lion's share. But, when it comes to brute strength..I'm afraid I'm at the shallow end of the gene pool.\"},\n",
       "  {'message': \"here's one in every family sire... Two in mine actually. And they always\"}]}"
      ]
     },
     "execution_count": 28,
     "metadata": {},
     "output_type": "execute_result"
    }
   ],
   "source": [
    "urlChat = API_URL + \"/chat/birth\"\n",
    "getmessagebirth = requests.get(urlChat).json()\n",
    "getmessagebirth"
   ]
  },
  {
   "cell_type": "code",
   "execution_count": 29,
   "metadata": {},
   "outputs": [],
   "source": [
    "urlgetMessag = API_URL + \"/chat/elephant_graveyard\"\n",
    "getmessageel = requests.get(urlgetMessag).json()\n",
    "#getmessageel"
   ]
  },
  {
   "cell_type": "code",
   "execution_count": 30,
   "metadata": {},
   "outputs": [],
   "source": [
    "urlgetMessag = API_URL + \"/chat/growing_up\"\n",
    "getmessageGrow= requests.get(urlgetMessag).json()"
   ]
  },
  {
   "cell_type": "code",
   "execution_count": 31,
   "metadata": {},
   "outputs": [],
   "source": [
    "urlgetMessag = API_URL + \"/chat/hakuna_matata\"\n",
    "getmessagehakuna = requests.get(urlgetMessag).json()"
   ]
  },
  {
   "cell_type": "markdown",
   "metadata": {},
   "source": [
    "### Getting messages from Mongo for Sentiment Analysis with NLTK"
   ]
  },
  {
   "cell_type": "code",
   "execution_count": 32,
   "metadata": {},
   "outputs": [
    {
     "data": {
      "text/plain": [
       "('mostly unhappy: negative polarity', 'negative:', 0.053, 'positive', 0.025)"
      ]
     },
     "execution_count": 32,
     "metadata": {},
     "output_type": "execute_result"
    }
   ],
   "source": [
    "#chat birth\n",
    "analysis(getmessagebirth)"
   ]
  },
  {
   "cell_type": "code",
   "execution_count": 33,
   "metadata": {},
   "outputs": [
    {
     "data": {
      "text/plain": [
       "('mostly unhappy: negative polarity', 'negative:', 0.069, 'positive', 0.035)"
      ]
     },
     "execution_count": 33,
     "metadata": {},
     "output_type": "execute_result"
    }
   ],
   "source": [
    "#chat elephant graveyard\n",
    "analysis(getmessageel)"
   ]
  },
  {
   "cell_type": "code",
   "execution_count": 7,
   "metadata": {},
   "outputs": [
    {
     "ename": "NameError",
     "evalue": "name 'getmessageGrow' is not defined",
     "output_type": "error",
     "traceback": [
      "\u001b[0;31m---------------------------------------------------------------------------\u001b[0m",
      "\u001b[0;31mNameError\u001b[0m                                 Traceback (most recent call last)",
      "\u001b[0;32m<ipython-input-7-c16272948518>\u001b[0m in \u001b[0;36m<module>\u001b[0;34m\u001b[0m\n\u001b[1;32m      1\u001b[0m \u001b[0;31m#chat growing up\u001b[0m\u001b[0;34m\u001b[0m\u001b[0;34m\u001b[0m\u001b[0;34m\u001b[0m\u001b[0m\n\u001b[0;32m----> 2\u001b[0;31m \u001b[0manalysis\u001b[0m\u001b[0;34m(\u001b[0m\u001b[0mgetmessageGrow\u001b[0m\u001b[0;34m)\u001b[0m\u001b[0;34m\u001b[0m\u001b[0;34m\u001b[0m\u001b[0m\n\u001b[0m",
      "\u001b[0;31mNameError\u001b[0m: name 'getmessageGrow' is not defined"
     ]
    }
   ],
   "source": [
    "#chat growing up\n",
    "analysis(getmessageGrow)"
   ]
  },
  {
   "cell_type": "code",
   "execution_count": 35,
   "metadata": {},
   "outputs": [
    {
     "data": {
      "text/plain": [
       "('mostly happy: positive plolarity', 0.093, 0.145)"
      ]
     },
     "execution_count": 35,
     "metadata": {},
     "output_type": "execute_result"
    }
   ],
   "source": [
    "#chat hakuna_matata\n",
    "analysis(getmessagehakuna)"
   ]
  },
  {
   "cell_type": "code",
   "execution_count": null,
   "metadata": {},
   "outputs": [],
   "source": []
  }
 ],
 "metadata": {
  "kernelspec": {
   "display_name": "Python 3",
   "language": "python",
   "name": "python3"
  },
  "language_info": {
   "codemirror_mode": {
    "name": "ipython",
    "version": 3
   },
   "file_extension": ".py",
   "mimetype": "text/x-python",
   "name": "python",
   "nbconvert_exporter": "python",
   "pygments_lexer": "ipython3",
   "version": "3.8.2"
  }
 },
 "nbformat": 4,
 "nbformat_minor": 4
}
